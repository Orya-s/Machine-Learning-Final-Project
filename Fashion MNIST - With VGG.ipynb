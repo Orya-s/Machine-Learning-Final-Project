{
 "cells": [
  {
   "cell_type": "markdown",
   "metadata": {},
   "source": [
    "# Fashion MNIST\n",
    "### By: Adi Hoftman-322267824 , Orya Spiegel-207018524\n",
    "\n",
    "\n",
    "Fashion-MNIST is a dataset of Zalando's article images—consisting of a training set of 60,000 examples and a test set of 10,000 examples. Each example is a 28x28 grayscale image, associated with a label from 10 classes. Zalando intends Fashion-MNIST to serve as a direct drop-in replacement for the original MNIST dataset for benchmarking machine learning algorithms. It shares the same image size and structure of training and testing splits.\n",
    "\n",
    "* Each row is a separate image\n",
    "* Column 1 is the class label.\n",
    "* Remaining columns are pixel numbers (784 total).\n",
    "* Each value is the darkness of the pixel (1 to 255)\n",
    "\n",
    "\n",
    "\n",
    "\n",
    "### Questions we asked about our data\n",
    "- How well can we predict the label of each item?\n",
    "- Is it possible to get good predictions based on the colors of the item?\n",
    "- Can we improve the results if we create categories for similar items?\n",
    "\n",
    "\n",
    "### Techniques we used\n",
    "- ### VGG - New!\n",
    "- ADABOOST\n",
    "- RANDOM FOREST\n",
    "- NAIVE BAYES\n",
    "- KNN\n",
    "\n",
    "\n",
    "\n",
    "### Challenges we had\n",
    "- We wanted to know if it's possible to classify using only the gray levels of each item. We didn't get good results for any of the models, and we realized this data is not enough to make the predictions, since there isn't a lot of difference between the average of the different labels.\n",
    "- We wanted to check if creating categories for similar items will give us better results. For that we tried a few different ways to unite labels. On the one hand we wanted to get good classification results, at least like the ones we got with the original data, so we wanted to use as little groups as possible. On the other hand, we still want to keep the original information as much as possible, and uniting too many labels together is going to affect this. So we tried to keep as many of the original labels as possible while improving the labeling for similar items.  \n",
    "\n"
   ]
  },
  {
   "cell_type": "code",
   "execution_count": 1,
   "metadata": {},
   "outputs": [],
   "source": [
    "import numpy as np\n",
    "import pandas as pd\n",
    "import matplotlib.pyplot as plt\n",
    "import matplotlib\n",
    "import seaborn as sns\n",
    "%matplotlib inline\n",
    "from sklearn import metrics\n",
    "from sklearn.metrics import classification_report,confusion_matrix,ConfusionMatrixDisplay\n",
    "import random"
   ]
  },
  {
   "cell_type": "code",
   "execution_count": 2,
   "metadata": {},
   "outputs": [],
   "source": [
    "df_train = pd.read_csv('../data/fashion-mnist_train.csv')\n",
    "df_test = pd.read_csv('../data/fashion-mnist_test.csv')"
   ]
  },
  {
   "cell_type": "code",
   "execution_count": 3,
   "metadata": {},
   "outputs": [
    {
     "data": {
      "text/html": [
       "<div>\n",
       "<style scoped>\n",
       "    .dataframe tbody tr th:only-of-type {\n",
       "        vertical-align: middle;\n",
       "    }\n",
       "\n",
       "    .dataframe tbody tr th {\n",
       "        vertical-align: top;\n",
       "    }\n",
       "\n",
       "    .dataframe thead th {\n",
       "        text-align: right;\n",
       "    }\n",
       "</style>\n",
       "<table border=\"1\" class=\"dataframe\">\n",
       "  <thead>\n",
       "    <tr style=\"text-align: right;\">\n",
       "      <th></th>\n",
       "      <th>label</th>\n",
       "      <th>pixel1</th>\n",
       "      <th>pixel2</th>\n",
       "      <th>pixel3</th>\n",
       "      <th>pixel4</th>\n",
       "      <th>pixel5</th>\n",
       "      <th>pixel6</th>\n",
       "      <th>pixel7</th>\n",
       "      <th>pixel8</th>\n",
       "      <th>pixel9</th>\n",
       "      <th>...</th>\n",
       "      <th>pixel775</th>\n",
       "      <th>pixel776</th>\n",
       "      <th>pixel777</th>\n",
       "      <th>pixel778</th>\n",
       "      <th>pixel779</th>\n",
       "      <th>pixel780</th>\n",
       "      <th>pixel781</th>\n",
       "      <th>pixel782</th>\n",
       "      <th>pixel783</th>\n",
       "      <th>pixel784</th>\n",
       "    </tr>\n",
       "  </thead>\n",
       "  <tbody>\n",
       "    <tr>\n",
       "      <th>0</th>\n",
       "      <td>2</td>\n",
       "      <td>0</td>\n",
       "      <td>0</td>\n",
       "      <td>0</td>\n",
       "      <td>0</td>\n",
       "      <td>0</td>\n",
       "      <td>0</td>\n",
       "      <td>0</td>\n",
       "      <td>0</td>\n",
       "      <td>0</td>\n",
       "      <td>...</td>\n",
       "      <td>0</td>\n",
       "      <td>0</td>\n",
       "      <td>0</td>\n",
       "      <td>0</td>\n",
       "      <td>0</td>\n",
       "      <td>0</td>\n",
       "      <td>0</td>\n",
       "      <td>0</td>\n",
       "      <td>0</td>\n",
       "      <td>0</td>\n",
       "    </tr>\n",
       "    <tr>\n",
       "      <th>1</th>\n",
       "      <td>9</td>\n",
       "      <td>0</td>\n",
       "      <td>0</td>\n",
       "      <td>0</td>\n",
       "      <td>0</td>\n",
       "      <td>0</td>\n",
       "      <td>0</td>\n",
       "      <td>0</td>\n",
       "      <td>0</td>\n",
       "      <td>0</td>\n",
       "      <td>...</td>\n",
       "      <td>0</td>\n",
       "      <td>0</td>\n",
       "      <td>0</td>\n",
       "      <td>0</td>\n",
       "      <td>0</td>\n",
       "      <td>0</td>\n",
       "      <td>0</td>\n",
       "      <td>0</td>\n",
       "      <td>0</td>\n",
       "      <td>0</td>\n",
       "    </tr>\n",
       "    <tr>\n",
       "      <th>2</th>\n",
       "      <td>6</td>\n",
       "      <td>0</td>\n",
       "      <td>0</td>\n",
       "      <td>0</td>\n",
       "      <td>0</td>\n",
       "      <td>0</td>\n",
       "      <td>0</td>\n",
       "      <td>0</td>\n",
       "      <td>5</td>\n",
       "      <td>0</td>\n",
       "      <td>...</td>\n",
       "      <td>0</td>\n",
       "      <td>0</td>\n",
       "      <td>0</td>\n",
       "      <td>30</td>\n",
       "      <td>43</td>\n",
       "      <td>0</td>\n",
       "      <td>0</td>\n",
       "      <td>0</td>\n",
       "      <td>0</td>\n",
       "      <td>0</td>\n",
       "    </tr>\n",
       "    <tr>\n",
       "      <th>3</th>\n",
       "      <td>0</td>\n",
       "      <td>0</td>\n",
       "      <td>0</td>\n",
       "      <td>0</td>\n",
       "      <td>1</td>\n",
       "      <td>2</td>\n",
       "      <td>0</td>\n",
       "      <td>0</td>\n",
       "      <td>0</td>\n",
       "      <td>0</td>\n",
       "      <td>...</td>\n",
       "      <td>3</td>\n",
       "      <td>0</td>\n",
       "      <td>0</td>\n",
       "      <td>0</td>\n",
       "      <td>0</td>\n",
       "      <td>1</td>\n",
       "      <td>0</td>\n",
       "      <td>0</td>\n",
       "      <td>0</td>\n",
       "      <td>0</td>\n",
       "    </tr>\n",
       "    <tr>\n",
       "      <th>4</th>\n",
       "      <td>3</td>\n",
       "      <td>0</td>\n",
       "      <td>0</td>\n",
       "      <td>0</td>\n",
       "      <td>0</td>\n",
       "      <td>0</td>\n",
       "      <td>0</td>\n",
       "      <td>0</td>\n",
       "      <td>0</td>\n",
       "      <td>0</td>\n",
       "      <td>...</td>\n",
       "      <td>0</td>\n",
       "      <td>0</td>\n",
       "      <td>0</td>\n",
       "      <td>0</td>\n",
       "      <td>0</td>\n",
       "      <td>0</td>\n",
       "      <td>0</td>\n",
       "      <td>0</td>\n",
       "      <td>0</td>\n",
       "      <td>0</td>\n",
       "    </tr>\n",
       "  </tbody>\n",
       "</table>\n",
       "<p>5 rows × 785 columns</p>\n",
       "</div>"
      ],
      "text/plain": [
       "   label  pixel1  pixel2  pixel3  pixel4  pixel5  pixel6  pixel7  pixel8  \\\n",
       "0      2       0       0       0       0       0       0       0       0   \n",
       "1      9       0       0       0       0       0       0       0       0   \n",
       "2      6       0       0       0       0       0       0       0       5   \n",
       "3      0       0       0       0       1       2       0       0       0   \n",
       "4      3       0       0       0       0       0       0       0       0   \n",
       "\n",
       "   pixel9  ...  pixel775  pixel776  pixel777  pixel778  pixel779  pixel780  \\\n",
       "0       0  ...         0         0         0         0         0         0   \n",
       "1       0  ...         0         0         0         0         0         0   \n",
       "2       0  ...         0         0         0        30        43         0   \n",
       "3       0  ...         3         0         0         0         0         1   \n",
       "4       0  ...         0         0         0         0         0         0   \n",
       "\n",
       "   pixel781  pixel782  pixel783  pixel784  \n",
       "0         0         0         0         0  \n",
       "1         0         0         0         0  \n",
       "2         0         0         0         0  \n",
       "3         0         0         0         0  \n",
       "4         0         0         0         0  \n",
       "\n",
       "[5 rows x 785 columns]"
      ]
     },
     "execution_count": 3,
     "metadata": {},
     "output_type": "execute_result"
    }
   ],
   "source": [
    "df_train.head()"
   ]
  },
  {
   "cell_type": "code",
   "execution_count": 4,
   "metadata": {},
   "outputs": [
    {
     "name": "stdout",
     "output_type": "stream",
     "text": [
      "train (60000, 785)\n",
      "test (10000, 785)\n"
     ]
    }
   ],
   "source": [
    "print(\"train\", df_train.shape)\n",
    "print(\"test\", df_test.shape)"
   ]
  },
  {
   "cell_type": "code",
   "execution_count": 5,
   "metadata": {
    "scrolled": false
   },
   "outputs": [
    {
     "data": {
      "text/plain": [
       "0"
      ]
     },
     "execution_count": 5,
     "metadata": {},
     "output_type": "execute_result"
    }
   ],
   "source": [
    "#Check for missing data\n",
    "df_train.isnull().sum().sum()"
   ]
  },
  {
   "cell_type": "markdown",
   "metadata": {},
   "source": [
    "Each image is 28 pixels in height and 28 pixels in width, for a total of 784 pixels in total. Each pixel has a single pixel-value associated with it, indicating the lightness or darkness of that pixel, with higher numbers meaning darker. This pixel-value is an integer between 0 and 255. The training and test data sets have 785 columns. The first column consists of the class labels (see above), and represents the article of clothing. The rest of the columns contain the pixel-values of the associated image.\n",
    "\n",
    "To locate a pixel on the image, suppose that we have decomposed x as x = i * 28 + j, where i and j are integers between 0 and 27. The pixel is located on row i and column j of a 28 x 28 matrix."
   ]
  },
  {
   "cell_type": "markdown",
   "metadata": {},
   "source": [
    "## Labels\n",
    "\n",
    "Each training and test example is assigned to one of the following labels:\n",
    "\n",
    "0 - T-shirt/top\n",
    "\n",
    "1 - Trouser\n",
    "\n",
    "2 - Pullover\n",
    "\n",
    "3 - Dress\n",
    "\n",
    "4 - Coat\n",
    "\n",
    "5 - Sandal\n",
    "\n",
    "6 - Shirt\n",
    "\n",
    "7 - Sneaker\n",
    "\n",
    "8 - Bag\n",
    "\n",
    "9 - Ankle boot"
   ]
  },
  {
   "cell_type": "code",
   "execution_count": 6,
   "metadata": {},
   "outputs": [
    {
     "data": {
      "text/plain": [
       "0    6000\n",
       "1    6000\n",
       "2    6000\n",
       "3    6000\n",
       "4    6000\n",
       "5    6000\n",
       "6    6000\n",
       "7    6000\n",
       "8    6000\n",
       "9    6000\n",
       "Name: label, dtype: int64"
      ]
     },
     "execution_count": 6,
     "metadata": {},
     "output_type": "execute_result"
    }
   ],
   "source": [
    "df_train.label.value_counts()"
   ]
  },
  {
   "cell_type": "code",
   "execution_count": 7,
   "metadata": {},
   "outputs": [
    {
     "name": "stderr",
     "output_type": "stream",
     "text": [
      "C:\\Users\\oryas\\AppData\\Local\\Programs\\Python\\Python39\\lib\\site-packages\\seaborn\\_decorators.py:36: FutureWarning: Pass the following variable as a keyword arg: x. From version 0.12, the only valid positional argument will be `data`, and passing other arguments without an explicit keyword will result in an error or misinterpretation.\n",
      "  warnings.warn(\n"
     ]
    },
    {
     "data": {
      "text/plain": [
       "<AxesSubplot:xlabel='label', ylabel='count'>"
      ]
     },
     "execution_count": 7,
     "metadata": {},
     "output_type": "execute_result"
    },
    {
     "data": {
      "image/png": "[encoded data removed]",
      "text/plain": [
       "<Figure size 432x288 with 1 Axes>"
      ]
     },
     "metadata": {
      "needs_background": "light"
     },
     "output_type": "display_data"
    }
   ],
   "source": [
    "sns.countplot(df_train.label , palette='YlGnBu')"
   ]
  },
  {
   "cell_type": "code",
   "execution_count": 8,
   "metadata": {},
   "outputs": [],
   "source": [
    "class_names = ['T_shirt/top', 'Trouser', 'Pullover', 'Dress', 'Coat', 'Sandal', 'Shirt', 'Sneaker', 'Bag', 'Ankle boot']"
   ]
  },
  {
   "cell_type": "code",
   "execution_count": 9,
   "metadata": {},
   "outputs": [
    {
     "data": {
      "text/plain": [
       "Text(0.5, 1.0, 'Bag')"
      ]
     },
     "execution_count": 9,
     "metadata": {},
     "output_type": "execute_result"
    },
    {
     "data": {
      "image/png": "[encoded data removed]",
      "text/plain": [
       "<Figure size 432x288 with 1 Axes>"
      ]
     },
     "metadata": {
      "needs_background": "light"
     },
     "output_type": "display_data"
    }
   ],
   "source": [
    "#Visualization\n",
    "i = random.randint(1,60000) #select any random index from 1 to 60,000\n",
    "train= np.array(df_train, dtype = 'float32')\n",
    "plt.imshow(train[i,1:].reshape((28,28))) #reshape and plot the image\n",
    "\n",
    "label_index = df_train[\"label\"][i]\n",
    "plt.title(f\"{class_names[label_index]}\")"
   ]
  },
  {
   "cell_type": "code",
   "execution_count": null,
   "metadata": {},
   "outputs": [],
   "source": []
  },
  {
   "cell_type": "markdown",
   "metadata": {},
   "source": [
    "## Making Predictions"
   ]
  },
  {
   "cell_type": "markdown",
   "metadata": {},
   "source": [
    "##  VGG  $\\color{red}{\\text{NEW}}$\n"
   ]
  },
  {
   "cell_type": "code",
   "execution_count": 10,
   "metadata": {},
   "outputs": [],
   "source": [
    "# VGG models are a type of CNN Architecture proposed by Karen Simonyan & Andrew Zisserman of Visual Geometry Group (VGG),\n",
    "# Oxford University. (CNN is a specialized deep neural network model for handling image data)"
   ]
  },
  {
   "cell_type": "code",
   "execution_count": 11,
   "metadata": {},
   "outputs": [],
   "source": [
    "from keras.applications.vgg16 import VGG16\n",
    "from keras import models\n",
    "from keras.models import Model\n",
    "from keras import layers\n",
    "from tensorflow.keras import optimizers"
   ]
  },
  {
   "cell_type": "markdown",
   "metadata": {},
   "source": [
    "Convert the images into 3 channels"
   ]
  },
  {
   "cell_type": "code",
   "execution_count": 12,
   "metadata": {},
   "outputs": [
    {
     "data": {
      "text/plain": [
       "((60000, 784, 3), (10000, 784, 3))"
      ]
     },
     "execution_count": 12,
     "metadata": {},
     "output_type": "execute_result"
    }
   ],
   "source": [
    "X_train = np.array(df_train.iloc[:,1:])\n",
    "X_test = np.array(df_test.iloc[:,1:])\n",
    "y_train = np.array(df_train.iloc[:,0]) \n",
    "y_test = np.array(df_test.iloc[:,0]) \n",
    "\n",
    "X_train = np.dstack([X_train]*3)\n",
    "X_test = np.dstack([X_test]*3)\n",
    "X_train.shape, X_test.shape"
   ]
  },
  {
   "cell_type": "markdown",
   "metadata": {},
   "source": [
    "Reshape images to the tensor format required by tensorflow"
   ]
  },
  {
   "cell_type": "code",
   "execution_count": 13,
   "metadata": {},
   "outputs": [
    {
     "data": {
      "text/plain": [
       "((60000, 28, 28, 3), (10000, 28, 28, 3))"
      ]
     },
     "execution_count": 13,
     "metadata": {},
     "output_type": "execute_result"
    }
   ],
   "source": [
    "X_train = X_train.reshape(-1, 28, 28, 3)\n",
    "X_test = X_test.reshape(-1, 28, 28, 3)\n",
    "X_train.shape, X_test.shape"
   ]
  },
  {
   "cell_type": "markdown",
   "metadata": {},
   "source": [
    "Resize the images 48*48 as required by VGG16"
   ]
  },
  {
   "cell_type": "code",
   "execution_count": 14,
   "metadata": {},
   "outputs": [
    {
     "data": {
      "text/plain": [
       "((60000, 48, 48, 3), (10000, 48, 48, 3))"
      ]
     },
     "execution_count": 14,
     "metadata": {},
     "output_type": "execute_result"
    }
   ],
   "source": [
    "from keras.preprocessing.image import img_to_array, array_to_img\n",
    "X_train = np.asarray([img_to_array(array_to_img(im, scale=False).resize((48,48))) for im in X_train])\n",
    "X_test = np.asarray([img_to_array(array_to_img(im, scale=False).resize((48,48))) for im in X_test])\n",
    "\n",
    "X_train.shape, X_test.shape"
   ]
  },
  {
   "cell_type": "markdown",
   "metadata": {},
   "source": [
    "Normalize the data and change data type"
   ]
  },
  {
   "cell_type": "code",
   "execution_count": 15,
   "metadata": {},
   "outputs": [],
   "source": [
    "X_train = X_train / 255.\n",
    "X_test = X_test / 255.\n",
    "X_train = X_train.astype('float32')\n",
    "X_test = X_test.astype('float32')"
   ]
  },
  {
   "cell_type": "markdown",
   "metadata": {},
   "source": [
    "Converting Labels to one hot encoded format"
   ]
  },
  {
   "cell_type": "code",
   "execution_count": 16,
   "metadata": {},
   "outputs": [],
   "source": [
    "from tensorflow.keras.utils import to_categorical\n",
    "y_train = to_categorical(y_train)\n",
    "y_test = to_categorical(y_test)"
   ]
  },
  {
   "cell_type": "markdown",
   "metadata": {},
   "source": [
    "Check the data size whether it is as per tensorflow and VGG16 requirement"
   ]
  },
  {
   "cell_type": "code",
   "execution_count": 17,
   "metadata": {},
   "outputs": [
    {
     "data": {
      "text/plain": [
       "((60000, 48, 48, 3), (10000, 48, 48, 3), (60000, 10), (10000, 10))"
      ]
     },
     "execution_count": 17,
     "metadata": {},
     "output_type": "execute_result"
    }
   ],
   "source": [
    "X_train.shape, X_test.shape, y_train.shape, y_test.shape"
   ]
  },
  {
   "cell_type": "code",
   "execution_count": 18,
   "metadata": {},
   "outputs": [],
   "source": [
    "from keras.applications.vgg16 import preprocess_input\n",
    "X_train = preprocess_input(X_train)\n",
    "X_test = preprocess_input(X_test)"
   ]
  },
  {
   "cell_type": "code",
   "execution_count": 19,
   "metadata": {},
   "outputs": [],
   "source": [
    "IMG_WIDTH = 48\n",
    "IMG_HEIGHT = 48\n",
    "IMG_DEPTH = 3\n",
    "BATCH_SIZE = 16"
   ]
  },
  {
   "cell_type": "code",
   "execution_count": 20,
   "metadata": {},
   "outputs": [
    {
     "name": "stdout",
     "output_type": "stream",
     "text": [
      "Model: \"vgg16\"\n",
      "_________________________________________________________________\n",
      " Layer (type)                Output Shape              Param #   \n",
      "=================================================================\n",
      " input_1 (InputLayer)        [(None, 48, 48, 3)]       0         \n",
      "                                                                 \n",
      " block1_conv1 (Conv2D)       (None, 48, 48, 64)        1792      \n",
      "                                                                 \n",
      " block1_conv2 (Conv2D)       (None, 48, 48, 64)        36928     \n",
      "                                                                 \n",
      " block1_pool (MaxPooling2D)  (None, 24, 24, 64)        0         \n",
      "                                                                 \n",
      " block2_conv1 (Conv2D)       (None, 24, 24, 128)       73856     \n",
      "                                                                 \n",
      " block2_conv2 (Conv2D)       (None, 24, 24, 128)       147584    \n",
      "                                                                 \n",
      " block2_pool (MaxPooling2D)  (None, 12, 12, 128)       0         \n",
      "                                                                 \n",
      " block3_conv1 (Conv2D)       (None, 12, 12, 256)       295168    \n",
      "                                                                 \n",
      " block3_conv2 (Conv2D)       (None, 12, 12, 256)       590080    \n",
      "                                                                 \n",
      " block3_conv3 (Conv2D)       (None, 12, 12, 256)       590080    \n",
      "                                                                 \n",
      " block3_pool (MaxPooling2D)  (None, 6, 6, 256)         0         \n",
      "                                                                 \n",
      " block4_conv1 (Conv2D)       (None, 6, 6, 512)         1180160   \n",
      "                                                                 \n",
      " block4_conv2 (Conv2D)       (None, 6, 6, 512)         2359808   \n",
      "                                                                 \n",
      " block4_conv3 (Conv2D)       (None, 6, 6, 512)         2359808   \n",
      "                                                                 \n",
      " block4_pool (MaxPooling2D)  (None, 3, 3, 512)         0         \n",
      "                                                                 \n",
      " block5_conv1 (Conv2D)       (None, 3, 3, 512)         2359808   \n",
      "                                                                 \n",
      " block5_conv2 (Conv2D)       (None, 3, 3, 512)         2359808   \n",
      "                                                                 \n",
      " block5_conv3 (Conv2D)       (None, 3, 3, 512)         2359808   \n",
      "                                                                 \n",
      " block5_pool (MaxPooling2D)  (None, 1, 1, 512)         0         \n",
      "                                                                 \n",
      "=================================================================\n",
      "Total params: 14,714,688\n",
      "Trainable params: 14,714,688\n",
      "Non-trainable params: 0\n",
      "_________________________________________________________________\n"
     ]
    }
   ],
   "source": [
    "conv_base = VGG16(include_top=False, input_shape=(IMG_HEIGHT, IMG_WIDTH, IMG_DEPTH))\n",
    "conv_base.summary()"
   ]
  },
  {
   "cell_type": "markdown",
   "metadata": {},
   "source": [
    "Extracting and flattening features"
   ]
  },
  {
   "cell_type": "code",
   "execution_count": 21,
   "metadata": {},
   "outputs": [
    {
     "name": "stdout",
     "output_type": "stream",
     "text": [
      "3750/3750 [==============================] - 623s 166ms/step\n",
      "625/625 [==============================] - 102s 163ms/step\n"
     ]
    }
   ],
   "source": [
    "train_features = conv_base.predict(np.array(X_train), batch_size=BATCH_SIZE, verbose=1)\n",
    "test_features = conv_base.predict(np.array(X_test), batch_size=BATCH_SIZE, verbose=1)\n",
    "\n",
    "train_features_flat = np.reshape(train_features, (60000, 1*1*512))\n",
    "test_features_flat = np.reshape(test_features, (10000, 1*1*512))"
   ]
  },
  {
   "cell_type": "code",
   "execution_count": 22,
   "metadata": {},
   "outputs": [
    {
     "name": "stdout",
     "output_type": "stream",
     "text": [
      "Model: \"sequential\"\n",
      "_________________________________________________________________\n",
      " Layer (type)                Output Shape              Param #   \n",
      "=================================================================\n",
      " dense (Dense)               (None, 512)               262656    \n",
      "                                                                 \n",
      " leaky_re_lu (LeakyReLU)     (None, 512)               0         \n",
      "                                                                 \n",
      " dense_1 (Dense)             (None, 10)                5130      \n",
      "                                                                 \n",
      "=================================================================\n",
      "Total params: 267,786\n",
      "Trainable params: 267,786\n",
      "Non-trainable params: 0\n",
      "_________________________________________________________________\n"
     ]
    }
   ],
   "source": [
    "# We tried to add more layers to improve accuracy but got over-fitting, so we used only three layers\n",
    "model = models.Sequential()\n",
    "model.add(layers.Dense(512, activation='relu', input_dim=(1*1*512)))\n",
    "model.add(layers.LeakyReLU(alpha=0.1))\n",
    "model.add(layers.Dense(10, activation='softmax'))\n",
    "\n",
    "model.summary()"
   ]
  },
  {
   "cell_type": "code",
   "execution_count": 23,
   "metadata": {},
   "outputs": [],
   "source": [
    "model.compile(loss='categorical_crossentropy', optimizer=optimizers.Adam(), metrics=['accuracy'])"
   ]
  },
  {
   "cell_type": "code",
   "execution_count": 24,
   "metadata": {
    "scrolled": false
   },
   "outputs": [
    {
     "name": "stdout",
     "output_type": "stream",
     "text": [
      "Epoch 1/150\n",
      "1500/1500 [==============================] - 5s 3ms/step - loss: 1.4618 - accuracy: 0.4588 - val_loss: 1.1887 - val_accuracy: 0.5511.0531  - ETA: 2s - los - ETA - ETA: 0s - loss: 1.4879 - \n",
      "Epoch 2/150\n",
      "1500/1500 [==============================] - 5s 3ms/step - loss: 1.0946 - accuracy: 0.5965 - val_loss: 1.0148 - val_accuracy: 0.6346\n",
      "Epoch 3/150\n",
      "1500/1500 [==============================] - 5s 3ms/step - loss: 0.9881 - accuracy: 0.6363 - val_loss: 0.9769 - val_accuracy: 0.6449: 2s - loss: 0.9923 -  - ETA: 1s - l - ETA: 0s - loss: 0.9921 - accuracy: 0.63 - ETA: \n",
      "Epoch 4/150\n",
      "1500/1500 [==============================] - 5s 3ms/step - loss: 0.9408 - accuracy: 0.6555 - val_loss: 0.9516 - val_accuracy: 0.6462\n",
      "Epoch 5/150\n",
      "1500/1500 [==============================] - 5s 3ms/step - loss: 0.9059 - accuracy: 0.6676 - val_loss: 0.8836 - val_accuracy: 0.6734oss: 0.9081 - \n",
      "Epoch 6/150\n",
      "1500/1500 [==============================] - 5s 3ms/step - loss: 0.8860 - accuracy: 0.6756 - val_loss: 0.9285 - val_accuracy: 0.6502s: 0.8865 - accuracy - ETA: 0s - loss: 0.8 - ETA: 0s - loss: 0.8871 - accuracy\n",
      "Epoch 7/150\n",
      "1500/1500 [==============================] - 5s 3ms/step - loss: 0.8649 - accuracy: 0.6833 - val_loss: 0.8794 - val_accuracy: 0.6858\n",
      "Epoch 8/150\n",
      "1500/1500 [==============================] - 6s 4ms/step - loss: 0.8534 - accuracy: 0.6871 - val_loss: 0.8695 - val_accuracy: 0.6822\n",
      "Epoch 9/150\n",
      "1500/1500 [==============================] - 5s 4ms/step - loss: 0.8379 - accuracy: 0.6948 - val_loss: 0.8461 - val_accuracy: 0.6930 0.8378 -  - ETA: 1s - loss: 0.839 - ETA: 0s - loss: 0.8397 - \n",
      "Epoch 10/150\n",
      "1500/1500 [==============================] - 5s 3ms/step - loss: 0.8252 - accuracy: 0.6986 - val_loss: 0.8088 - val_accuracy: 0.7032\n",
      "Epoch 11/150\n",
      "1500/1500 [==============================] - 6s 4ms/step - loss: 0.8184 - accuracy: 0.6991 - val_loss: 0.8073 - val_accuracy: 0.7106\n",
      "Epoch 12/150\n",
      "1500/1500 [==============================] - 7s 5ms/step - loss: 0.8115 - accuracy: 0.7032 - val_loss: 0.8163 - val_accuracy: 0.6965\n",
      "Epoch 13/150\n",
      "1500/1500 [==============================] - 6s 4ms/step - loss: 0.8049 - accuracy: 0.7049 - val_loss: 0.8211 - val_accuracy: 0.6937\n",
      "Epoch 14/150\n",
      "1500/1500 [==============================] - 6s 4ms/step - loss: 0.7983 - accuracy: 0.7061 - val_loss: 0.8253 - val_accuracy: 0.6956\n",
      "Epoch 15/150\n",
      "1500/1500 [==============================] - 6s 4ms/step - loss: 0.7921 - accuracy: 0.7098 - val_loss: 0.7890 - val_accuracy: 0.7122\n",
      "Epoch 16/150\n",
      "1500/1500 [==============================] - 5s 4ms/step - loss: 0.7865 - accuracy: 0.7114 - val_loss: 0.7998 - val_accuracy: 0.7009\n",
      "Epoch 17/150\n",
      "1500/1500 [==============================] - 5s 3ms/step - loss: 0.7817 - accuracy: 0.7125 - val_loss: 0.7893 - val_accuracy: 0.7125 - loss: 0.7 - ETA:  - ETA: 0s - loss: 0.7815 - accuracy: \n",
      "Epoch 18/150\n",
      "1500/1500 [==============================] - 5s 3ms/step - loss: 0.7782 - accuracy: 0.7151 - val_loss: 0.7693 - val_accuracy: 0.7158\n",
      "Epoch 19/150\n",
      "1500/1500 [==============================] - 5s 3ms/step - loss: 0.7745 - accuracy: 0.7187 - val_loss: 0.7911 - val_accuracy: 0.7046 loss: 0.7794 - accu - ETA: 0s - loss: - ETA: 0s - loss: 0.7763 - accuracy\n",
      "Epoch 20/150\n",
      "1500/1500 [==============================] - 5s 3ms/step - loss: 0.7764 - accuracy: 0.7152 - val_loss: 0.7968 - val_accuracy: 0.7162 loss: 0.7799  - ETA: 2s - loss: 0.7 - ETA: 1s - loss: 0.7726 - accuracy - ETA: 1s - los - ETA: 0s - loss: 0.775 - ETA: 0s - loss: 0.7748 - \n",
      "Epoch 21/150\n",
      "1500/1500 [==============================] - 5s 3ms/step - loss: 0.7678 - accuracy: 0.7189 - val_loss: 0.7443 - val_accuracy: 0.7267- accuracy - ETA: 0s - loss: 0.7679 - ac\n",
      "Epoch 22/150\n",
      "1500/1500 [==============================] - 5s 3ms/step - loss: 0.7689 - accuracy: 0.7186 - val_loss: 0.7594 - val_accuracy: 0.7292\n",
      "Epoch 23/150\n",
      "1500/1500 [==============================] - 5s 3ms/step - loss: 0.7584 - accuracy: 0.7233 - val_loss: 0.8219 - val_accuracy: 0.6999\n",
      "Epoch 24/150\n",
      "1500/1500 [==============================] - 5s 3ms/step - loss: 0.7520 - accuracy: 0.7243 - val_loss: 0.7957 - val_accuracy: 0.7128 loss: 0.7386 - ac - ETA: 1s - l - ETA: 0s - loss: 0.7536 - accu\n",
      "Epoch 25/150\n",
      "1500/1500 [==============================] - 5s 4ms/step - loss: 0.7523 - accuracy: 0.7251 - val_loss: 0.7563 - val_accuracy: 0.7157\n",
      "Epoch 26/150\n",
      "1500/1500 [==============================] - 5s 3ms/step - loss: 0.7536 - accuracy: 0.7229 - val_loss: 0.8047 - val_accuracy: 0.6987\n",
      "Epoch 27/150\n",
      "1500/1500 [==============================] - 5s 3ms/step - loss: 0.7466 - accuracy: 0.7256 - val_loss: 0.8019 - val_accuracy: 0.7129471 - accu\n",
      "Epoch 28/150\n",
      "1500/1500 [==============================] - 5s 3ms/step - loss: 0.7457 - accuracy: 0.7259 - val_loss: 0.7823 - val_accuracy: 0.7165s: 0.761 - ETA: 0s - loss: 0.7 - ETA: 0s - loss: 0.7483 - ac\n",
      "Epoch 29/150\n",
      "1500/1500 [==============================] - 5s 3ms/step - loss: 0.7423 - accuracy: 0.7269 - val_loss: 0.7654 - val_accuracy: 0.7227485 - accura - ETA: 2s - loss: 0.7525 - accuracy:  - ETA: 2s - loss: 0.7537 - accuracy: 0.72 - ETA: 2s - loss: 0.7531 - accura - ETA: 1s - loss: 0.7434  - ETA: 0s - - ETA: 0s - loss: 0.7440 - accuracy: 0.\n",
      "Epoch 30/150\n",
      "1500/1500 [==============================] - 5s 3ms/step - loss: 0.7348 - accuracy: 0.7317 - val_loss: 0.7882 - val_accuracy: 0.7128\n",
      "Epoch 31/150\n",
      "1500/1500 [==============================] - 5s 3ms/step - loss: 0.7362 - accuracy: 0.7291 - val_loss: 0.7338 - val_accuracy: 0.7306 - ETA: 0s - los - ETA: 0s - loss: 0.7359 - accuracy: 0.72 - ETA: 0s - loss: 0.7358 - accuracy: 0.72\n",
      "Epoch 32/150\n",
      "1500/1500 [==============================] - 5s 3ms/step - loss: 0.7284 - accuracy: 0.7323 - val_loss: 0.7715 - val_accuracy: 0.7174oss: 0.7293 - ac - ETA: \n",
      "Epoch 33/150\n",
      "1500/1500 [==============================] - 5s 3ms/step - loss: 0.7314 - accuracy: 0.7306 - val_loss: 0.7518 - val_accuracy: 0.7257\n",
      "Epoch 34/150\n",
      "1500/1500 [==============================] - 5s 3ms/step - loss: 0.7251 - accuracy: 0.7325 - val_loss: 0.7041 - val_accuracy: 0.7473\n",
      "Epoch 35/150\n",
      "1500/1500 [==============================] - 5s 3ms/step - loss: 0.7262 - accuracy: 0.7358 - val_loss: 0.7672 - val_accuracy: 0.7226- accuracy:  - ETA: 1s - loss: 0.7164 - accuracy: 0.73 - ETA: 1s - loss: 0.7173 - accuracy:  - ETA: 1s - loss: 0.7199 - accu - ETA: 1s - loss: 0.7 - ETA: 0s - loss: 0\n",
      "Epoch 36/150\n",
      "1500/1500 [==============================] - 5s 3ms/step - loss: 0.7267 - accuracy: 0.7347 - val_loss: 0.7312 - val_accuracy: 0.7353 loss: 0.7293  - ETA: 0s - loss: 0.7268 - accuracy: 0.73 - ETA: 0s - loss: 0 - ETA: 0s - loss: 0.7263 - accuracy: 0.\n",
      "Epoch 37/150\n",
      "1500/1500 [==============================] - 5s 3ms/step - loss: 0.7240 - accuracy: 0.7336 - val_loss: 0.7092 - val_accuracy: 0.7411\n",
      "Epoch 38/150\n",
      "1500/1500 [==============================] - 5s 3ms/step - loss: 0.7206 - accuracy: 0.7346 - val_loss: 0.7498 - val_accuracy: 0.7341 loss: 0.7202 - \n",
      "Epoch 39/150\n",
      "1500/1500 [==============================] - 5s 4ms/step - loss: 0.7203 - accuracy: 0.7359 - val_loss: 0.7056 - val_accuracy: 0.7476\n",
      "Epoch 40/150\n",
      "1500/1500 [==============================] - 5s 3ms/step - loss: 0.7157 - accuracy: 0.7382 - val_loss: 0.8012 - val_accuracy: 0.7101 - loss: 0.7219 - accuracy - ETA: 1s - loss: 0.7212 -  - E\n",
      "Epoch 41/150\n",
      "1500/1500 [==============================] - 5s 3ms/step - loss: 0.7165 - accuracy: 0.7356 - val_loss: 0.8142 - val_accuracy: 0.7122\n",
      "Epoch 42/150\n",
      "1500/1500 [==============================] - 5s 3ms/step - loss: 0.7117 - accuracy: 0.7374 - val_loss: 0.6999 - val_accuracy: 0.7466\n",
      "Epoch 43/150\n",
      "1500/1500 [==============================] - 5s 3ms/step - loss: 0.7129 - accuracy: 0.7381 - val_loss: 0.7268 - val_accuracy: 0.74012s - - ETA: 0s - loss: 0.7093 \n",
      "Epoch 44/150\n",
      "1500/1500 [==============================] - 5s 3ms/step - loss: 0.7126 - accuracy: 0.7400 - val_loss: 0.7409 - val_accuracy: 0.7320cy: 0.74 - ETA: 1s - loss: 0.7086 - accura - ETA: 1s - loss: 0.7105 - accuracy - ETA: 1s - los - ETA: 0s - loss: 0.7\n",
      "Epoch 45/150\n"
     ]
    },
    {
     "name": "stdout",
     "output_type": "stream",
     "text": [
      "1500/1500 [==============================] - 5s 3ms/step - loss: 0.7129 - accuracy: 0.7360 - val_loss: 0.7364 - val_accuracy: 0.73593s - loss: 0.7312 - accu - - ETA: 0s - loss: 0.7135 - accuracy: 0.73 - ETA: 0s - loss: 0.7131 - accuracy: 0.73\n",
      "Epoch 46/150\n",
      "1500/1500 [==============================] - 5s 3ms/step - loss: 0.7047 - accuracy: 0.7436 - val_loss: 0.8470 - val_accuracy: 0.7023cy: 0.74 - ETA: 0s - loss: 0.7078 - accuracy:  - ETA: 0s - loss: 0.7067 - accura - ETA: 0s - loss: 0.7043 - accura\n",
      "Epoch 47/150\n",
      "1500/1500 [==============================] - 5s 3ms/step - loss: 0.7034 - accuracy: 0.7434 - val_loss: 0.6961 - val_accuracy: 0.7516oss: - ETA: 1s - loss: 0.6998 - accuracy: 0. - ETA: 1s - loss: 0.6998 - accuracy - ETA: 1s - loss: - ETA: 0s - loss: 0.7053  - ETA: 0s - loss: 0.7034 - accuracy: \n",
      "Epoch 48/150\n",
      "1500/1500 [==============================] - 5s 3ms/step - loss: 0.7032 - accuracy: 0.7421 - val_loss: 0.7497 - val_accuracy: 0.72880s - loss: 0.7066 - accuracy: 0.73 - ETA: 0s - loss: 0.7057 - ac - ETA: 0s - loss: 0.7\n",
      "Epoch 49/150\n",
      "1500/1500 [==============================] - 5s 3ms/step - loss: 0.7048 - accuracy: 0.7415 - val_loss: 0.7093 - val_accuracy: 0.7402: 0s - loss: 0.7052 - accuracy: 0.\n",
      "Epoch 50/150\n",
      "1500/1500 [==============================] - 5s 3ms/step - loss: 0.7020 - accuracy: 0.7424 - val_loss: 0.6922 - val_accuracy: 0.7542\n",
      "Epoch 51/150\n",
      "1500/1500 [==============================] - 5s 3ms/step - loss: 0.7037 - accuracy: 0.7415 - val_loss: 0.6952 - val_accuracy: 0.7513 - loss: - ETA: 1s - loss: 0.7030 -  - ETA: 1s - loss: 0.703 - ETA: 0s - loss: 0.7033 - accuracy - ETA: 0s - loss: 0.7036 - ac\n",
      "Epoch 52/150\n",
      "1500/1500 [==============================] - 5s 3ms/step - loss: 0.6989 - accuracy: 0.7461 - val_loss: 0.7080 - val_accuracy: 0.7444racy: 0. - ETA: 1s - los - ETA: 0s - loss: 0.6994 - accuracy: \n",
      "Epoch 53/150\n",
      "1500/1500 [==============================] - 5s 3ms/step - loss: 0.6971 - accuracy: 0.7451 - val_loss: 0.7600 - val_accuracy: 0.7286\n",
      "Epoch 54/150\n",
      "1500/1500 [==============================] - 5s 3ms/step - loss: 0.6970 - accuracy: 0.7467 - val_loss: 0.6925 - val_accuracy: 0.74983s - loss: 0.683 - ETA: 3s - loss: 0.6856 - accuracy: 0.75 - ETA: 3s - ETA: 1s - loss: 0.6995 -  - ETA: 0s - loss: 0.6977 - accuracy: 0. - ETA: 0s - loss: 0.6980 -  - ETA: 0s - loss: 0.6966 - accuracy\n",
      "Epoch 55/150\n",
      "1500/1500 [==============================] - 5s 3ms/step - loss: 0.6943 - accuracy: 0.7445 - val_loss: 0.7148 - val_accuracy: 0.7433 los - - ETA: 1s - ETA: 0s - loss: 0.6969 - accuracy:  - ETA: 0s -\n",
      "Epoch 56/150\n",
      "1500/1500 [==============================] - 5s 3ms/step - loss: 0.6921 - accuracy: 0.7474 - val_loss: 0.7152 - val_accuracy: 0.7366 ETA: 2s - loss: 0.6837 - accuracy: 0.75 - E - ETA: 1s - loss: 0.6836 - accuracy: 0.75 - ETA: 1s - - ETA: 0s - loss: 0.6905 - accuracy: 0. - ETA: 0s - loss: 0.6903 - ac\n",
      "Epoch 57/150\n",
      "1500/1500 [==============================] - 5s 3ms/step - loss: 0.6923 - accuracy: 0.7457 - val_loss: 0.7080 - val_accuracy: 0.7407966 - accuracy:  - ETA:  - ETA: 1s - loss: - ETA: 1s - loss: 0.690 - ETA: 0s - loss: 0.6917 - accuracy: 0. - ETA: 0s - loss: 0.6911 - accuracy:  - ETA: 0s - loss: 0.6904 - accuracy - ETA: 0s - loss: 0.6922 - accura\n",
      "Epoch 58/150\n",
      "1500/1500 [==============================] - 5s 3ms/step - loss: 0.6937 - accuracy: 0.7454 - val_loss: 0.7179 - val_accuracy: 0.7415.6978 - accuracy:  - ETA: 1s - loss: 0.695 - ETA: 1s - loss: - ETA: 0s - loss: 0.6916 - accuracy:  - ETA: 0s - loss: 0.6929 - ac\n",
      "Epoch 59/150\n",
      "1500/1500 [==============================] - 5s 3ms/step - loss: 0.6920 - accuracy: 0.7452 - val_loss: 0.6981 - val_accuracy: 0.7476\n",
      "Epoch 60/150\n",
      "1500/1500 [==============================] - 5s 3ms/step - loss: 0.6888 - accuracy: 0.7467 - val_loss: 0.7070 - val_accuracy: 0.7468 - loss: 0.6905 - accuracy: 0.74 - ETA: 3s - loss: - ETA: 2s - loss: 0.6925 - accuracy - ETA: 2s - loss: 0.6926 -  - ETA: 2s - loss: 0.6923 - accu - ETA: 1s -\n",
      "Epoch 61/150\n",
      "1500/1500 [==============================] - 5s 3ms/step - loss: 0.6888 - accuracy: 0.7478 - val_loss: 0.7011 - val_accuracy: 0.7482oss: 0.6917 - accuracy: 0.74 - ETA: 1s - loss: 0.6 - ETA: 0s - loss: 0.6908 -  - ETA: 0s - loss: 0.6889 - ac\n",
      "Epoch 62/150\n",
      "1500/1500 [==============================] - 5s 3ms/step - loss: 0.6861 - accuracy: 0.7476 - val_loss: 0.6987 - val_accuracy: 0.7483 0.6959 - accuracy - ETA: 3s - loss: 0.6840 - accuracy: 0.74 - ETA: 3s - loss: - ETA: 1s - loss: 0.6830 - accuracy - ETA: 1s - loss: 0.6842 - accu - ETA: 0s - loss: 0.6836 - accuracy: 0.74 - ETA: 0s - loss: 0.6 - ETA: 0s - loss: 0.6833 - accuracy:  - ETA: 0s - loss: 0.6844 - accuracy: 0.74 - ETA: 0s - loss: 0.6845 - accuracy: \n",
      "Epoch 63/150\n",
      "1500/1500 [==============================] - 5s 3ms/step - loss: 0.6886 - accuracy: 0.7474 - val_loss: 0.7333 - val_accuracy: 0.7389 loss: - ETA: \n",
      "Epoch 64/150\n",
      "1500/1500 [==============================] - 5s 3ms/step - loss: 0.6890 - accuracy: 0.7478 - val_loss: 0.7823 - val_accuracy: 0.7228 - los - ETA: 2s - loss: 0.6927  - ETA: 2s - loss: - ETA: 1s - loss: 0 - ETA: 0s - loss: 0.6885 - accuracy: 0.\n",
      "Epoch 65/150\n",
      "1500/1500 [==============================] - 5s 3ms/step - loss: 0.6835 - accuracy: 0.7499 - val_loss: 0.6723 - val_accuracy: 0.7574\n",
      "Epoch 66/150\n",
      "1500/1500 [==============================] - 5s 3ms/step - loss: 0.6836 - accuracy: 0.7495 - val_loss: 0.6983 - val_accuracy: 0.7475TA: 1s - loss: 0.6836 - accuracy: 0.74 - ETA: 1s - loss: 0.6832 - accuracy:  - ETA: 0s - loss: 0.6837 - accuracy:  - ETA: 0s - loss: 0.684 - ETA: 0s - loss: 0.6844 - ac\n",
      "Epoch 67/150\n",
      "1500/1500 [==============================] - 5s 3ms/step - loss: 0.6844 - accuracy: 0.7493 - val_loss: 0.6946 - val_accuracy: 0.7477cy - ETA: 2s - loss: 0 - E - ETA: 1s - loss: 0.6867  - ETA: 0s - loss: 0.687 - ETA: 0s - loss: 0.6858 - accura\n",
      "Epoch 68/150\n",
      "1500/1500 [==============================] - 5s 3ms/step - loss: 0.6858 - accuracy: 0.7481 - val_loss: 0.6718 - val_accuracy: 0.7560\n",
      "Epoch 69/150\n",
      "1500/1500 [==============================] - 5s 3ms/step - loss: 0.6822 - accuracy: 0.7493 - val_loss: 0.7076 - val_accuracy: 0.7400s: 0.6822 - accuracy - ETA: 1s - loss: 0.6802 - accuracy:  - ETA: 0s\n",
      "Epoch 70/150\n",
      "1500/1500 [==============================] - 5s 3ms/step - loss: 0.6810 - accuracy: 0.7495 - val_loss: 0.7083 - val_accuracy: 0.7470s: 0.6672 - accura - ETA: 3s - loss: 0.6706 - accuracy - ETA: 2s - loss: 0.6699 - accu - ETA: 2s - loss: 0.6761 - accura - ETA:  - ETA: 1s - loss: 0.6 - ETA: 0s - los - ETA: 0s - loss: 0.6804 - accuracy: \n",
      "Epoch 71/150\n",
      "1500/1500 [==============================] - 5s 3ms/step - loss: 0.6790 - accuracy: 0.7521 - val_loss: 0.6856 - val_accuracy: 0.7506\n",
      "Epoch 72/150\n",
      "1500/1500 [==============================] - 5s 3ms/step - loss: 0.6820 - accuracy: 0.7495 - val_loss: 0.6848 - val_accuracy: 0.7514\n",
      "Epoch 73/150\n",
      "1500/1500 [==============================] - 5s 4ms/step - loss: 0.6733 - accuracy: 0.7536 - val_loss: 0.7120 - val_accuracy: 0.7411\n",
      "Epoch 74/150\n",
      "1500/1500 [==============================] - 5s 3ms/step - loss: 0.6772 - accuracy: 0.7515 - val_loss: 0.7015 - val_accuracy: 0.7434\n",
      "Epoch 75/150\n",
      "1500/1500 [==============================] - 5s 3ms/step - loss: 0.6765 - accuracy: 0.7508 - val_loss: 0.6820 - val_accuracy: 0.7553\n",
      "Epoch 76/150\n",
      "1500/1500 [==============================] - 5s 3ms/step - loss: 0.6764 - accuracy: 0.7510 - val_loss: 0.6808 - val_accuracy: 0.7566\n",
      "Epoch 77/150\n",
      "1500/1500 [==============================] - 5s 3ms/step - loss: 0.6746 - accuracy: 0.7532 - val_loss: 0.7096 - val_accuracy: 0.7403\n",
      "Epoch 78/150\n",
      "1500/1500 [==============================] - 5s 3ms/step - loss: 0.6741 - accuracy: 0.7508 - val_loss: 0.6739 - val_accuracy: 0.7517\n",
      "Epoch 79/150\n",
      "1500/1500 [==============================] - 5s 3ms/step - loss: 0.6725 - accuracy: 0.7524 - val_loss: 0.6745 - val_accuracy: 0.7598\n",
      "Epoch 80/150\n",
      "1500/1500 [==============================] - 5s 3ms/step - loss: 0.6741 - accuracy: 0.7526 - val_loss: 0.6879 - val_accuracy: 0.7537\n",
      "Epoch 81/150\n"
     ]
    },
    {
     "name": "stdout",
     "output_type": "stream",
     "text": [
      "1500/1500 [==============================] - 5s 3ms/step - loss: 0.6729 - accuracy: 0.7526 - val_loss: 0.7067 - val_accuracy: 0.7402 - loss: 0.6586 - accu - E\n",
      "Epoch 82/150\n",
      "1500/1500 [==============================] - 5s 3ms/step - loss: 0.6732 - accuracy: 0.7537 - val_loss: 0.6896 - val_accuracy: 0.7499- accuracy:  - ETA: 1s - loss: 0 - ETA: 0s - loss: 0.671\n",
      "Epoch 83/150\n",
      "1500/1500 [==============================] - 5s 3ms/step - loss: 0.6705 - accuracy: 0.7528 - val_loss: 0.6811 - val_accuracy: 0.7485oss: 0.6756 - \n",
      "Epoch 84/150\n",
      "1500/1500 [==============================] - 5s 3ms/step - loss: 0.6715 - accuracy: 0.7537 - val_loss: 0.6711 - val_accuracy: 0.7584: 0s - los\n",
      "Epoch 85/150\n",
      "1500/1500 [==============================] - 5s 3ms/step - loss: 0.6714 - accuracy: 0.7537 - val_loss: 0.6992 - val_accuracy: 0.7487\n",
      "Epoch 86/150\n",
      "1500/1500 [==============================] - 5s 3ms/step - loss: 0.6706 - accuracy: 0.7542 - val_loss: 0.6823 - val_accuracy: 0.7542-  - ETA - ETA: 0s -\n",
      "Epoch 87/150\n",
      "1500/1500 [==============================] - 5s 3ms/step - loss: 0.6676 - accuracy: 0.7546 - val_loss: 0.6872 - val_accuracy: 0.7527 - loss: 0 - ETA: 2s - loss: 0.6649 - accuracy: 0.75 - ETA: 2s - loss: 0.6650 - accuracy: 0. - ETA: 2s - l - ETA: 1s - loss: 0.662 - ETA: 0s -\n",
      "Epoch 88/150\n",
      "1500/1500 [==============================] - 8s 6ms/step - loss: 0.6695 - accuracy: 0.7551 - val_loss: 0.7334 - val_accuracy: 0.7237\n",
      "Epoch 89/150\n",
      "1500/1500 [==============================] - 8s 5ms/step - loss: 0.6661 - accuracy: 0.7544 - val_loss: 0.7192 - val_accuracy: 0.7396\n",
      "Epoch 90/150\n",
      "1500/1500 [==============================] - 6s 4ms/step - loss: 0.6693 - accuracy: 0.7543 - val_loss: 0.7390 - val_accuracy: 0.7314\n",
      "Epoch 91/150\n",
      "1500/1500 [==============================] - 5s 4ms/step - loss: 0.6653 - accuracy: 0.7557 - val_loss: 0.6748 - val_accuracy: 0.7558\n",
      "Epoch 92/150\n",
      "1500/1500 [==============================] - 6s 4ms/step - loss: 0.6623 - accuracy: 0.7571 - val_loss: 0.6998 - val_accuracy: 0.7485\n",
      "Epoch 93/150\n",
      "1500/1500 [==============================] - 7s 5ms/step - loss: 0.6649 - accuracy: 0.7572 - val_loss: 0.6845 - val_accuracy: 0.7597\n",
      "Epoch 94/150\n",
      "1500/1500 [==============================] - 7s 4ms/step - loss: 0.6633 - accuracy: 0.7575 - val_loss: 0.7348 - val_accuracy: 0.7352\n",
      "Epoch 95/150\n",
      "1500/1500 [==============================] - 5s 3ms/step - loss: 0.6643 - accuracy: 0.7576 - val_loss: 0.6773 - val_accuracy: 0.7548\n",
      "Epoch 96/150\n",
      "1500/1500 [==============================] - 6s 4ms/step - loss: 0.6598 - accuracy: 0.7585 - val_loss: 0.6653 - val_accuracy: 0.7613\n",
      "Epoch 97/150\n",
      "1500/1500 [==============================] - 5s 3ms/step - loss: 0.6656 - accuracy: 0.7546 - val_loss: 0.7201 - val_accuracy: 0.7436\n",
      "Epoch 98/150\n",
      "1500/1500 [==============================] - 5s 3ms/step - loss: 0.6604 - accuracy: 0.7560 - val_loss: 0.6757 - val_accuracy: 0.7580\n",
      "Epoch 99/150\n",
      "1500/1500 [==============================] - 5s 3ms/step - loss: 0.6614 - accuracy: 0.7567 - val_loss: 0.6569 - val_accuracy: 0.7623.6575 - accuracy: 0. - ETA: 0s - loss: 0.658\n",
      "Epoch 100/150\n",
      "1500/1500 [==============================] - 5s 3ms/step - loss: 0.6601 - accuracy: 0.7574 - val_loss: 0.6785 - val_accuracy: 0.7551s: 0.6610 - accuracy\n",
      "Epoch 101/150\n",
      "1500/1500 [==============================] - 5s 3ms/step - loss: 0.6604 - accuracy: 0.7573 - val_loss: 0.6830 - val_accuracy: 0.7541\n",
      "Epoch 102/150\n",
      "1500/1500 [==============================] - 5s 3ms/step - loss: 0.6588 - accuracy: 0.7591 - val_loss: 0.6896 - val_accuracy: 0.7485\n",
      "Epoch 103/150\n",
      "1500/1500 [==============================] - 5s 3ms/step - loss: 0.6613 - accuracy: 0.7563 - val_loss: 0.6783 - val_accuracy: 0.7525\n",
      "Epoch 104/150\n",
      "1500/1500 [==============================] - 5s 3ms/step - loss: 0.6629 - accuracy: 0.7564 - val_loss: 0.6876 - val_accuracy: 0.7547.6733 -  - ETA: 2s - ETA: 2s - loss: 0 - ETA: 1s - loss: 0.6666 - accuracy:  - ETA: 1s - loss: 0 - ETA: 0s - los\n",
      "Epoch 105/150\n",
      "1500/1500 [==============================] - 5s 3ms/step - loss: 0.6601 - accuracy: 0.7607 - val_loss: 0.7004 - val_accuracy: 0.7437\n",
      "Epoch 106/150\n",
      "1500/1500 [==============================] - 5s 3ms/step - loss: 0.6552 - accuracy: 0.7590 - val_loss: 0.6923 - val_accuracy: 0.7491 ETA: 0s - loss: 0.6537 \n",
      "Epoch 107/150\n",
      "1500/1500 [==============================] - 5s 3ms/step - loss: 0.6551 - accuracy: 0.7615 - val_loss: 0.6581 - val_accuracy: 0.7600 - loss: 0.6521 - accuracy - ETA: 3s - loss: 0.6660 - accu - ETA: 3s - loss: 0 - ETA: 1s - loss: 0.6 - ETA: 0s -\n",
      "Epoch 108/150\n",
      "1500/1500 [==============================] - 5s 3ms/step - loss: 0.6544 - accuracy: 0.7603 - val_loss: 0.6638 - val_accuracy: 0.7602\n",
      "Epoch 109/150\n",
      "1500/1500 [==============================] - 5s 3ms/step - loss: 0.6569 - accuracy: 0.7586 - val_loss: 0.6630 - val_accuracy: 0.7587 ETA: 1s - loss: 0.6578 - ac\n",
      "Epoch 110/150\n",
      "1500/1500 [==============================] - 5s 3ms/step - loss: 0.6558 - accuracy: 0.7596 - val_loss: 0.6525 - val_accuracy: 0.7634\n",
      "Epoch 111/150\n",
      "1500/1500 [==============================] - 5s 3ms/step - loss: 0.6540 - accuracy: 0.7581 - val_loss: 0.6585 - val_accuracy: 0.7641\n",
      "Epoch 112/150\n",
      "1500/1500 [==============================] - 5s 3ms/step - loss: 0.6503 - accuracy: 0.7616 - val_loss: 0.6700 - val_accuracy: 0.7519\n",
      "Epoch 113/150\n",
      "1500/1500 [==============================] - 5s 3ms/step - loss: 0.6497 - accuracy: 0.7615 - val_loss: 0.6822 - val_accuracy: 0.75061s - los - ETA: 0s - loss: 0.6466 - accuracy: 0. - ETA: 0s - loss: 0.6 - ETA: 0s - loss: 0.6499 - accuracy: 0.\n",
      "Epoch 114/150\n",
      "1500/1500 [==============================] - 5s 3ms/step - loss: 0.6569 - accuracy: 0.7598 - val_loss: 0.7199 - val_accuracy: 0.7374 - loss: 0.667 - ETA: 1s - loss: 0.6665 - ac - ETA: 1s - loss: 0.6631 - ac - ETA: 1s - loss: 0.663 - ETA: 0s - loss: 0.660 - ETA: 0s - loss: 0.6572 - accura\n",
      "Epoch 115/150\n",
      "1500/1500 [==============================] - 5s 3ms/step - loss: 0.6554 - accuracy: 0.7597 - val_loss: 0.6593 - val_accuracy: 0.7653ac - ETA: 0s - loss:\n",
      "Epoch 116/150\n",
      "1500/1500 [==============================] - 5s 3ms/step - loss: 0.6539 - accuracy: 0.7592 - val_loss: 0.6810 - val_accuracy: 0.7531s: 0.6560 -  - ETA: 1s - loss: 0.6564 -  - ETA: 0s - loss: 0.654 - ETA: 0s - loss: 0.6531 - accuracy: 0.75 - ETA: 0s - loss: 0.6533 - accuracy: 0.75 - ETA: 0s - loss: 0.6535 - accu\n",
      "Epoch 117/150\n",
      "1500/1500 [==============================] - 5s 3ms/step - loss: 0.6513 - accuracy: 0.7609 - val_loss: 0.6766 - val_accuracy: 0.7573\n",
      "Epoch 118/150\n",
      "1500/1500 [==============================] - 5s 3ms/step - loss: 0.6537 - accuracy: 0.7608 - val_loss: 0.7187 - val_accuracy: 0.7386s: 0.6506 - accuracy: 0.76 - ETA: 3s - loss: 0.6518 - accuracy - E - ETA: 1s - loss: 0.6562 -  - ETA: 1s - loss: 0.6558 - accuracy:  - E - ETA: 0s - loss: 0.6547 - accuracy\n",
      "Epoch 119/150\n",
      "1500/1500 [==============================] - 5s 3ms/step - loss: 0.6503 - accuracy: 0.7632 - val_loss: 0.6516 - val_accuracy: 0.7619 - loss: 0.6472 -  - ETA: 1s - loss: 0 - ETA: 0s - los - ETA: 0s - loss: 0.6494 - accu\n",
      "Epoch 120/150\n",
      "1500/1500 [==============================] - 5s 3ms/step - loss: 0.6503 - accuracy: 0.7630 - val_loss: 0.6905 - val_accuracy: 0.7485 loss: 0.6 - ETA: 0s - loss: 0.6514 - accura\n",
      "Epoch 121/150\n",
      "1500/1500 [==============================] - 5s 3ms/step - loss: 0.6509 - accuracy: 0.7606 - val_loss: 0.6493 - val_accuracy: 0.7684\n",
      "Epoch 122/150\n",
      "1500/1500 [==============================] - 5s 3ms/step - loss: 0.6485 - accuracy: 0.7614 - val_loss: 0.6524 - val_accuracy: 0.7628 - ETA: 2s - loss: 0.6495 - accura - ETA: 2s - loss: 0.6469 - accu - E\n",
      "Epoch 123/150\n",
      "1500/1500 [==============================] - 5s 3ms/step - loss: 0.6483 - accuracy: 0.7643 - val_loss: 0.6637 - val_accuracy: 0.7626s: 0.6 - ETA:  - ETA: 1s - loss: 0.6461 - ac - ETA: 0s - loss: 0.6466 - accura - ETA: 0s - los\n",
      "Epoch 124/150\n",
      "1500/1500 [==============================] - 5s 3ms/step - loss: 0.6500 - accuracy: 0.7615 - val_loss: 0.6790 - val_accuracy: 0.7523\n",
      "Epoch 125/150\n",
      "1500/1500 [==============================] - 5s 3ms/step - loss: 0.6474 - accuracy: 0.7629 - val_loss: 0.6689 - val_accuracy: 0.7577\n",
      "Epoch 126/150\n"
     ]
    },
    {
     "name": "stdout",
     "output_type": "stream",
     "text": [
      "1500/1500 [==============================] - 5s 3ms/step - loss: 0.6502 - accuracy: 0.7620 - val_loss: 0.6543 - val_accuracy: 0.7648\n",
      "Epoch 127/150\n",
      "1500/1500 [==============================] - 5s 3ms/step - loss: 0.6476 - accuracy: 0.7621 - val_loss: 0.6757 - val_accuracy: 0.7588 0.6452 - ac - ETA: 0s - loss: 0.6459 - accuracy:  - ETA: 0s - loss: 0.6466 - accuracy: 0. - ETA: 0s - loss: 0.6470 -  - ETA: 0s - loss: 0.6478 - accuracy: \n",
      "Epoch 128/150\n",
      "1500/1500 [==============================] - 5s 3ms/step - loss: 0.6472 - accuracy: 0.7650 - val_loss: 0.6697 - val_accuracy: 0.7544\n",
      "Epoch 129/150\n",
      "1500/1500 [==============================] - 5s 3ms/step - loss: 0.6477 - accuracy: 0.7636 - val_loss: 0.6817 - val_accuracy: 0.7494 loss: 0.6446 - ac - ETA: 3s - loss: 0.6522 - accuracy:  - ETA: 3s - loss: 0.6566 - accuracy: 0. - ETA: 3s - loss: 0.6541 - accuracy:  - ETA: 1s - - ETA: 1s - loss: 0.6497 - accuracy - ETA: 0s - loss: 0.6497 - accu - ETA: 0s - loss: 0\n",
      "Epoch 130/150\n",
      "1500/1500 [==============================] - 5s 3ms/step - loss: 0.6456 - accuracy: 0.7634 - val_loss: 0.6627 - val_accuracy: 0.7595 loss:\n",
      "Epoch 131/150\n",
      "1500/1500 [==============================] - 5s 3ms/step - loss: 0.6462 - accuracy: 0.7621 - val_loss: 0.7199 - val_accuracy: 0.7448 ETA: 0s - loss: 0.648 - ETA: 0s - loss: 0.6461 - accuracy: 0.76 - ETA: 0s - loss: 0.6464 - accuracy: \n",
      "Epoch 132/150\n",
      "1500/1500 [==============================] - 5s 3ms/step - loss: 0.6464 - accuracy: 0.7626 - val_loss: 0.6699 - val_accuracy: 0.7568.6471 - accuracy: 0.\n",
      "Epoch 133/150\n",
      "1500/1500 [==============================] - 5s 3ms/step - loss: 0.6461 - accuracy: 0.7614 - val_loss: 0.6513 - val_accuracy: 0.7656 0.6463 - accu - ETA: 0s - loss: 0.6460 \n",
      "Epoch 134/150\n",
      "1500/1500 [==============================] - 5s 3ms/step - loss: 0.6464 - accuracy: 0.7635 - val_loss: 0.6694 - val_accuracy: 0.7593s: 0.6478 - accuracy - ETA: 0s -\n",
      "Epoch 135/150\n",
      "1500/1500 [==============================] - 5s 3ms/step - loss: 0.6427 - accuracy: 0.7649 - val_loss: 0.6511 - val_accuracy: 0.7709\n",
      "Epoch 136/150\n",
      "1500/1500 [==============================] - 5s 4ms/step - loss: 0.6437 - accuracy: 0.7641 - val_loss: 0.7006 - val_accuracy: 0.7419\n",
      "Epoch 137/150\n",
      "1500/1500 [==============================] - 5s 4ms/step - loss: 0.6443 - accuracy: 0.7641 - val_loss: 0.7025 - val_accuracy: 0.7512\n",
      "Epoch 138/150\n",
      "1500/1500 [==============================] - 5s 3ms/step - loss: 0.6429 - accuracy: 0.7634 - val_loss: 0.6602 - val_accuracy: 0.7598\n",
      "Epoch 139/150\n",
      "1500/1500 [==============================] - 5s 3ms/step - loss: 0.6435 - accuracy: 0.7646 - val_loss: 0.6843 - val_accuracy: 0.7452\n",
      "Epoch 140/150\n",
      "1500/1500 [==============================] - 5s 3ms/step - loss: 0.6417 - accuracy: 0.7648 - val_loss: 0.6582 - val_accuracy: 0.7617: 3s - loss: 0.6195 - accu - E - ETA: 2s - los - ETA: 1s - loss: 0.6463 - accu - ETA: 1s - loss: 0.645 - ETA: 0s - loss: 0.6424 - accu - ETA: 0s - loss: 0\n",
      "Epoch 141/150\n",
      "1500/1500 [==============================] - 5s 3ms/step - loss: 0.6417 - accuracy: 0.7633 - val_loss: 0.6563 - val_accuracy: 0.76033s - loss: 0.6420 -  - ETA: 2s - loss: 0.6349 - accuracy:  - ETA: 2s - loss: 0.6377  - ETA: 2s - loss: 0.633 - ETA: 1s - loss: 0\n",
      "Epoch 142/150\n",
      "1500/1500 [==============================] - 6s 4ms/step - loss: 0.6412 - accuracy: 0.7638 - val_loss: 0.6813 - val_accuracy: 0.7599\n",
      "Epoch 143/150\n",
      "1500/1500 [==============================] - 7s 4ms/step - loss: 0.6430 - accuracy: 0.7634 - val_loss: 0.6395 - val_accuracy: 0.7702\n",
      "Epoch 144/150\n",
      "1500/1500 [==============================] - 5s 4ms/step - loss: 0.6423 - accuracy: 0.7650 - val_loss: 0.6620 - val_accuracy: 0.7609\n",
      "Epoch 145/150\n",
      "1500/1500 [==============================] - 5s 3ms/step - loss: 0.6431 - accuracy: 0.7634 - val_loss: 0.6950 - val_accuracy: 0.7522\n",
      "Epoch 146/150\n",
      "1500/1500 [==============================] - 5s 3ms/step - loss: 0.6375 - accuracy: 0.7649 - val_loss: 0.6496 - val_accuracy: 0.7636\n",
      "Epoch 147/150\n",
      "1500/1500 [==============================] - 5s 3ms/step - loss: 0.6385 - accuracy: 0.7651 - val_loss: 0.6601 - val_accuracy: 0.7624\n",
      "Epoch 148/150\n",
      "1500/1500 [==============================] - 5s 3ms/step - loss: 0.6379 - accuracy: 0.7667 - val_loss: 0.6714 - val_accuracy: 0.7581\n",
      "Epoch 149/150\n",
      "1500/1500 [==============================] - 5s 3ms/step - loss: 0.6394 - accuracy: 0.7668 - val_loss: 0.6918 - val_accuracy: 0.7517\n",
      "Epoch 150/150\n",
      "1500/1500 [==============================] - 5s 3ms/step - loss: 0.6389 - accuracy: 0.7653 - val_loss: 0.6731 - val_accuracy: 0.7572\n"
     ]
    }
   ],
   "source": [
    "history = model.fit(train_features_flat, y_train, epochs= 150, validation_split=0.2, shuffle=True)"
   ]
  },
  {
   "cell_type": "code",
   "execution_count": 25,
   "metadata": {},
   "outputs": [
    {
     "data": {
      "image/png": "[encoded data removed]",
      "text/plain": [
       "<Figure size 432x288 with 1 Axes>"
      ]
     },
     "metadata": {
      "needs_background": "light"
     },
     "output_type": "display_data"
    },
    {
     "data": {
      "image/png": "[encoded data removed]",
      "text/plain": [
       "<Figure size 432x288 with 1 Axes>"
      ]
     },
     "metadata": {
      "needs_background": "light"
     },
     "output_type": "display_data"
    }
   ],
   "source": [
    "# plot the loss and accuracy\n",
    "\n",
    "acc = history.history['accuracy']\n",
    "val_acc = history.history['val_accuracy']\n",
    "loss = history.history['loss']\n",
    "val_loss = history.history['val_loss']\n",
    "epochs = range(1, len(acc) + 1)\n",
    "\n",
    "plt.title('Train and Validation accuracy')\n",
    "plt.plot(epochs, acc, 'red', label='Training acc')\n",
    "plt.plot(epochs, val_acc, 'blue', label='Validation acc')\n",
    "plt.legend()\n",
    "\n",
    "plt.figure()\n",
    "plt.title('Train and Validation loss')\n",
    "plt.plot(epochs, loss, 'red', label='Training loss')\n",
    "plt.plot(epochs, val_loss, 'blue', label='Validation loss')\n",
    "plt.legend()\n",
    "\n",
    "plt.show()"
   ]
  },
  {
   "cell_type": "markdown",
   "metadata": {},
   "source": [
    "### VGG got us good results, but Random Forest and KNN have better scores"
   ]
  },
  {
   "cell_type": "code",
   "execution_count": null,
   "metadata": {},
   "outputs": [],
   "source": []
  },
  {
   "cell_type": "code",
   "execution_count": null,
   "metadata": {},
   "outputs": [],
   "source": []
  },
  {
   "cell_type": "code",
   "execution_count": 26,
   "metadata": {},
   "outputs": [],
   "source": [
    "#Prepare the training and testing dataset \n",
    "X_train = df_train.drop(columns='label')\n",
    "y_train = df_train['label']\n",
    "\n",
    "X_test = df_test.drop(columns='label')\n",
    "y_test = df_test['label']"
   ]
  },
  {
   "cell_type": "markdown",
   "metadata": {},
   "source": [
    "### ADABOOST"
   ]
  },
  {
   "cell_type": "code",
   "execution_count": 27,
   "metadata": {},
   "outputs": [],
   "source": [
    "# Boosting refers to any method that can combine several weak learners into a strong learner. The general idea\n",
    "# of mostboosting methods is to train predictors sequentially, each trying to correct its predecessor.\n",
    "\n",
    "# The AdaBoost classifier begins by fitting a classifier on the original dataset and then fits additional\n",
    "# copies of the classifier on the same dataset but where the weights of incorrectly classified instances\n",
    "# are adjusted such that subsequent classifiers focus more on difficult cases."
   ]
  },
  {
   "cell_type": "code",
   "execution_count": 28,
   "metadata": {},
   "outputs": [],
   "source": [
    "from sklearn.ensemble import AdaBoostClassifier\n",
    "ada = AdaBoostClassifier(n_estimators=100)\n",
    "ada.fit(X_train, y_train)\n",
    "ada_predictions= ada.predict(X_test)"
   ]
  },
  {
   "cell_type": "code",
   "execution_count": 29,
   "metadata": {
    "scrolled": true
   },
   "outputs": [
    {
     "name": "stdout",
     "output_type": "stream",
     "text": [
      "              precision    recall  f1-score   support\n",
      "\n",
      " T_shirt/top       0.37      0.04      0.07      1000\n",
      "     Trouser       0.82      0.79      0.80      1000\n",
      "    Pullover       0.46      0.28      0.35      1000\n",
      "       Dress       0.46      0.91      0.61      1000\n",
      "        Coat       0.50      0.54      0.52      1000\n",
      "      Sandal       0.90      0.58      0.71      1000\n",
      "       Shirt       0.27      0.35      0.30      1000\n",
      "     Sneaker       0.52      0.96      0.67      1000\n",
      "         Bag       0.91      0.90      0.90      1000\n",
      "  Ankle boot       0.90      0.47      0.62      1000\n",
      "\n",
      "    accuracy                           0.58     10000\n",
      "   macro avg       0.61      0.58      0.56     10000\n",
      "weighted avg       0.61      0.58      0.56     10000\n",
      "\n"
     ]
    }
   ],
   "source": [
    "#Classification report\n",
    "print(classification_report(y_test, ada_predictions, target_names= class_names))"
   ]
  },
  {
   "cell_type": "code",
   "execution_count": 30,
   "metadata": {},
   "outputs": [
    {
     "data": {
      "text/plain": [
       "0.5806"
      ]
     },
     "execution_count": 30,
     "metadata": {},
     "output_type": "execute_result"
    }
   ],
   "source": [
    "from sklearn.metrics import accuracy_score\n",
    "accuracy_score(y_test, ada_predictions)"
   ]
  },
  {
   "cell_type": "code",
   "execution_count": 31,
   "metadata": {},
   "outputs": [
    {
     "data": {
      "text/plain": [
       "<sklearn.metrics._plot.confusion_matrix.ConfusionMatrixDisplay at 0x21816c63c40>"
      ]
     },
     "execution_count": 31,
     "metadata": {},
     "output_type": "execute_result"
    },
    {
     "data": {
      "image/png": "[encoded data removed]",
      "text/plain": [
       "<Figure size 432x288 with 2 Axes>"
      ]
     },
     "metadata": {
      "needs_background": "light"
     },
     "output_type": "display_data"
    }
   ],
   "source": [
    "ConfusionMatrixDisplay.from_estimator(ada, X_test, y_test)#, cmap='magma')"
   ]
  },
  {
   "cell_type": "code",
   "execution_count": null,
   "metadata": {},
   "outputs": [],
   "source": []
  },
  {
   "cell_type": "code",
   "execution_count": null,
   "metadata": {},
   "outputs": [],
   "source": []
  },
  {
   "cell_type": "markdown",
   "metadata": {},
   "source": [
    "### RANDOM FOREST"
   ]
  },
  {
   "cell_type": "code",
   "execution_count": 32,
   "metadata": {},
   "outputs": [],
   "source": [
    "# Random Forest is a model made up of many decision trees. When using a decision tree classifier we will often have \n",
    "# overfitting if the data has high variance. As an alternative to limiting the depth of the tree, which reduces \n",
    "# variance and increases bias, we combine many decision trees into a random forest.\n",
    "\n",
    "# When training, each tree in a random forest learns from a random sample of the data points. The bootstrapping means \n",
    "# that some samples will be used multiple times in a single tree. The idea is that by training each tree on \n",
    "# different samples, although each tree might have high variance, the entire forest will have lower variance but\n",
    "# not at the cost of increasing the bias."
   ]
  },
  {
   "cell_type": "code",
   "execution_count": 33,
   "metadata": {},
   "outputs": [],
   "source": [
    "#Creating the model with 100 trees\n",
    "from sklearn.ensemble import RandomForestClassifier\n",
    "rf = RandomForestClassifier(n_estimators=100)\n",
    "rf.fit(X_train, y_train)\n",
    "rf_predictions= rf.predict(X_test)"
   ]
  },
  {
   "cell_type": "code",
   "execution_count": 34,
   "metadata": {},
   "outputs": [
    {
     "name": "stdout",
     "output_type": "stream",
     "text": [
      "              precision    recall  f1-score   support\n",
      "\n",
      " T_shirt/top       0.81      0.85      0.83      1000\n",
      "     Trouser       0.99      0.97      0.98      1000\n",
      "    Pullover       0.81      0.80      0.80      1000\n",
      "       Dress       0.89      0.93      0.91      1000\n",
      "        Coat       0.79      0.86      0.83      1000\n",
      "      Sandal       0.97      0.95      0.96      1000\n",
      "       Shirt       0.73      0.61      0.66      1000\n",
      "     Sneaker       0.92      0.93      0.93      1000\n",
      "         Bag       0.95      0.97      0.96      1000\n",
      "  Ankle boot       0.94      0.95      0.94      1000\n",
      "\n",
      "    accuracy                           0.88     10000\n",
      "   macro avg       0.88      0.88      0.88     10000\n",
      "weighted avg       0.88      0.88      0.88     10000\n",
      "\n"
     ]
    }
   ],
   "source": [
    "print(classification_report(y_test, rf_predictions, target_names= class_names))"
   ]
  },
  {
   "cell_type": "code",
   "execution_count": 35,
   "metadata": {},
   "outputs": [
    {
     "data": {
      "text/plain": [
       "0.8825"
      ]
     },
     "execution_count": 35,
     "metadata": {},
     "output_type": "execute_result"
    }
   ],
   "source": [
    "accuracy_score(y_test, rf_predictions)"
   ]
  },
  {
   "cell_type": "code",
   "execution_count": 36,
   "metadata": {},
   "outputs": [
    {
     "data": {
      "text/plain": [
       "<sklearn.metrics._plot.confusion_matrix.ConfusionMatrixDisplay at 0x217f54d27f0>"
      ]
     },
     "execution_count": 36,
     "metadata": {},
     "output_type": "execute_result"
    },
    {
     "data": {
      "image/png": "[encoded data removed]",
      "text/plain": [
       "<Figure size 432x288 with 2 Axes>"
      ]
     },
     "metadata": {
      "needs_background": "light"
     },
     "output_type": "display_data"
    }
   ],
   "source": [
    "ConfusionMatrixDisplay.from_estimator(rf, X_test, y_test)#, cmap='magma')"
   ]
  },
  {
   "cell_type": "code",
   "execution_count": null,
   "metadata": {},
   "outputs": [],
   "source": []
  },
  {
   "cell_type": "code",
   "execution_count": null,
   "metadata": {},
   "outputs": [],
   "source": []
  },
  {
   "cell_type": "markdown",
   "metadata": {},
   "source": [
    "### NAÏVE BAYES"
   ]
  },
  {
   "cell_type": "code",
   "execution_count": 37,
   "metadata": {},
   "outputs": [],
   "source": [
    "# In probability theory and statistics, Bayes' theorem describes the probability of an event, based on prior\n",
    "# knowledge of conditions that might be related to the event.\n",
    "\n",
    "# Naive Bayes is based on applying Bayes' theorem with strong (naive) independence assumptions between the features.\n",
    "# The fundamental Naive Bayes assumption is that each feature makes an independent contribution to the outcome."
   ]
  },
  {
   "cell_type": "code",
   "execution_count": 38,
   "metadata": {},
   "outputs": [],
   "source": [
    "from sklearn.naive_bayes import GaussianNB\n",
    "nb = GaussianNB()\n",
    "nb.fit(X_train,y_train)\n",
    "nb_predictions= nb.predict(X_test)"
   ]
  },
  {
   "cell_type": "code",
   "execution_count": 39,
   "metadata": {},
   "outputs": [
    {
     "name": "stdout",
     "output_type": "stream",
     "text": [
      "              precision    recall  f1-score   support\n",
      "\n",
      " T_shirt/top       0.83      0.59      0.69      1000\n",
      "     Trouser       0.69      0.94      0.79      1000\n",
      "    Pullover       0.61      0.32      0.42      1000\n",
      "       Dress       0.46      0.64      0.53      1000\n",
      "        Coat       0.38      0.77      0.51      1000\n",
      "      Sandal       0.89      0.29      0.44      1000\n",
      "       Shirt       0.32      0.04      0.07      1000\n",
      "     Sneaker       0.50      0.98      0.66      1000\n",
      "         Bag       0.83      0.71      0.77      1000\n",
      "  Ankle boot       0.92      0.63      0.75      1000\n",
      "\n",
      "    accuracy                           0.59     10000\n",
      "   macro avg       0.64      0.59      0.56     10000\n",
      "weighted avg       0.64      0.59      0.56     10000\n",
      "\n"
     ]
    }
   ],
   "source": [
    "print(classification_report(y_test, nb_predictions, target_names= class_names))"
   ]
  },
  {
   "cell_type": "code",
   "execution_count": 40,
   "metadata": {},
   "outputs": [
    {
     "data": {
      "text/plain": [
       "0.5914"
      ]
     },
     "execution_count": 40,
     "metadata": {},
     "output_type": "execute_result"
    }
   ],
   "source": [
    "accuracy_score(y_test, nb_predictions)"
   ]
  },
  {
   "cell_type": "code",
   "execution_count": 41,
   "metadata": {},
   "outputs": [
    {
     "data": {
      "text/plain": [
       "<sklearn.metrics._plot.confusion_matrix.ConfusionMatrixDisplay at 0x21819835c40>"
      ]
     },
     "execution_count": 41,
     "metadata": {},
     "output_type": "execute_result"
    },
    {
     "data": {
      "image/png": "[encoded data removed]",
      "text/plain": [
       "<Figure size 432x288 with 2 Axes>"
      ]
     },
     "metadata": {
      "needs_background": "light"
     },
     "output_type": "display_data"
    }
   ],
   "source": [
    "ConfusionMatrixDisplay.from_estimator(nb, X_test, y_test)#, cmap='magma')"
   ]
  },
  {
   "cell_type": "code",
   "execution_count": null,
   "metadata": {},
   "outputs": [],
   "source": []
  },
  {
   "cell_type": "code",
   "execution_count": null,
   "metadata": {},
   "outputs": [],
   "source": []
  },
  {
   "cell_type": "markdown",
   "metadata": {},
   "source": [
    "### KNN"
   ]
  },
  {
   "cell_type": "code",
   "execution_count": 42,
   "metadata": {},
   "outputs": [],
   "source": [
    "# The k-nearest neighbors algorithm, also known as KNN, is a supervised learning classifier,\n",
    "# which uses proximity to make classifications or predictions about the grouping of an individual data point. \n",
    "# A class label is assigned on the basis of a majority vote—i.e. the label that is most frequently represented\n",
    "# around a given data point will be assigned to it."
   ]
  },
  {
   "cell_type": "code",
   "execution_count": 43,
   "metadata": {},
   "outputs": [],
   "source": [
    "from sklearn.neighbors import KNeighborsClassifier\n",
    "knn = KNeighborsClassifier(n_neighbors=3)\n",
    "knn.fit(X_train,y_train)\n",
    "knn_predictions= knn.predict(X_test)"
   ]
  },
  {
   "cell_type": "code",
   "execution_count": 44,
   "metadata": {},
   "outputs": [
    {
     "name": "stdout",
     "output_type": "stream",
     "text": [
      "              precision    recall  f1-score   support\n",
      "\n",
      " T_shirt/top       0.75      0.87      0.80      1000\n",
      "     Trouser       0.99      0.97      0.98      1000\n",
      "    Pullover       0.74      0.82      0.78      1000\n",
      "       Dress       0.91      0.87      0.89      1000\n",
      "        Coat       0.81      0.77      0.79      1000\n",
      "      Sandal       0.99      0.82      0.90      1000\n",
      "       Shirt       0.68      0.59      0.63      1000\n",
      "     Sneaker       0.88      0.94      0.91      1000\n",
      "         Bag       0.98      0.95      0.97      1000\n",
      "  Ankle boot       0.88      0.97      0.92      1000\n",
      "\n",
      "    accuracy                           0.86     10000\n",
      "   macro avg       0.86      0.86      0.86     10000\n",
      "weighted avg       0.86      0.86      0.86     10000\n",
      "\n"
     ]
    }
   ],
   "source": [
    "print(classification_report(y_test, knn_predictions, target_names= class_names))"
   ]
  },
  {
   "cell_type": "code",
   "execution_count": 45,
   "metadata": {},
   "outputs": [
    {
     "data": {
      "text/plain": [
       "0.8584"
      ]
     },
     "execution_count": 45,
     "metadata": {},
     "output_type": "execute_result"
    }
   ],
   "source": [
    "accuracy_score(y_test, knn_predictions)"
   ]
  },
  {
   "cell_type": "code",
   "execution_count": 46,
   "metadata": {},
   "outputs": [
    {
     "data": {
      "text/plain": [
       "<sklearn.metrics._plot.confusion_matrix.ConfusionMatrixDisplay at 0x2181986aeb0>"
      ]
     },
     "execution_count": 46,
     "metadata": {},
     "output_type": "execute_result"
    },
    {
     "data": {
      "image/png": "[encoded data removed]",
      "text/plain": [
       "<Figure size 432x288 with 2 Axes>"
      ]
     },
     "metadata": {
      "needs_background": "light"
     },
     "output_type": "display_data"
    }
   ],
   "source": [
    "ConfusionMatrixDisplay.from_estimator(knn, X_test, y_test)#, cmap='magma')"
   ]
  },
  {
   "cell_type": "code",
   "execution_count": null,
   "metadata": {},
   "outputs": [],
   "source": []
  },
  {
   "cell_type": "code",
   "execution_count": null,
   "metadata": {},
   "outputs": [],
   "source": []
  },
  {
   "cell_type": "code",
   "execution_count": null,
   "metadata": {},
   "outputs": [],
   "source": []
  },
  {
   "cell_type": "markdown",
   "metadata": {},
   "source": [
    "## Q2 -\n",
    "### We want to check if it's possible to get good predictions based on the colors of the item\n",
    "If we can get good results that could save a lot of space and a lot of time, since we will only need to save one column for each item instead of 784. \n",
    "We will do this using the mean() command which will give us the average of the gray levels for each item."
   ]
  },
  {
   "cell_type": "code",
   "execution_count": 47,
   "metadata": {},
   "outputs": [
    {
     "data": {
      "text/html": [
       "<div>\n",
       "<style scoped>\n",
       "    .dataframe tbody tr th:only-of-type {\n",
       "        vertical-align: middle;\n",
       "    }\n",
       "\n",
       "    .dataframe tbody tr th {\n",
       "        vertical-align: top;\n",
       "    }\n",
       "\n",
       "    .dataframe thead th {\n",
       "        text-align: right;\n",
       "    }\n",
       "</style>\n",
       "<table border=\"1\" class=\"dataframe\">\n",
       "  <thead>\n",
       "    <tr style=\"text-align: right;\">\n",
       "      <th></th>\n",
       "      <th>average</th>\n",
       "      <th>label</th>\n",
       "    </tr>\n",
       "  </thead>\n",
       "  <tbody>\n",
       "    <tr>\n",
       "      <th>0</th>\n",
       "      <td>115.346939</td>\n",
       "      <td>2</td>\n",
       "    </tr>\n",
       "    <tr>\n",
       "      <th>1</th>\n",
       "      <td>58.885204</td>\n",
       "      <td>9</td>\n",
       "    </tr>\n",
       "    <tr>\n",
       "      <th>2</th>\n",
       "      <td>120.631378</td>\n",
       "      <td>6</td>\n",
       "    </tr>\n",
       "    <tr>\n",
       "      <th>3</th>\n",
       "      <td>86.492347</td>\n",
       "      <td>0</td>\n",
       "    </tr>\n",
       "    <tr>\n",
       "      <th>4</th>\n",
       "      <td>85.084184</td>\n",
       "      <td>3</td>\n",
       "    </tr>\n",
       "    <tr>\n",
       "      <th>...</th>\n",
       "      <td>...</td>\n",
       "      <td>...</td>\n",
       "    </tr>\n",
       "    <tr>\n",
       "      <th>59995</th>\n",
       "      <td>91.038265</td>\n",
       "      <td>9</td>\n",
       "    </tr>\n",
       "    <tr>\n",
       "      <th>59996</th>\n",
       "      <td>34.173469</td>\n",
       "      <td>1</td>\n",
       "    </tr>\n",
       "    <tr>\n",
       "      <th>59997</th>\n",
       "      <td>87.053571</td>\n",
       "      <td>8</td>\n",
       "    </tr>\n",
       "    <tr>\n",
       "      <th>59998</th>\n",
       "      <td>110.553571</td>\n",
       "      <td>8</td>\n",
       "    </tr>\n",
       "    <tr>\n",
       "      <th>59999</th>\n",
       "      <td>74.179847</td>\n",
       "      <td>7</td>\n",
       "    </tr>\n",
       "  </tbody>\n",
       "</table>\n",
       "<p>60000 rows × 2 columns</p>\n",
       "</div>"
      ],
      "text/plain": [
       "          average  label\n",
       "0      115.346939      2\n",
       "1       58.885204      9\n",
       "2      120.631378      6\n",
       "3       86.492347      0\n",
       "4       85.084184      3\n",
       "...           ...    ...\n",
       "59995   91.038265      9\n",
       "59996   34.173469      1\n",
       "59997   87.053571      8\n",
       "59998  110.553571      8\n",
       "59999   74.179847      7\n",
       "\n",
       "[60000 rows x 2 columns]"
      ]
     },
     "execution_count": 47,
     "metadata": {},
     "output_type": "execute_result"
    }
   ],
   "source": [
    "df_train2 = df_train.copy(deep=True)\n",
    "df_train2_label = df_train2[['label']]\n",
    "df_train2 = df_train2.drop(columns='label')\n",
    "df_train2['average'] = df_train2.mean(axis=1)\n",
    "df_train2 = df_train2[['average']]\n",
    "df_train2 = df_train2.join(df_train2_label)\n",
    "\n",
    "\n",
    "df_test2 = df_test.copy(deep=True)\n",
    "df_test2_label = df_test2[['label']]\n",
    "df_test2 = df_test2.drop(columns='label')\n",
    "df_test2['average'] = df_test2.mean(axis=1)\n",
    "df_test2 = df_test2[['average']]\n",
    "df_test2 = df_test2.join(df_test2_label)\n",
    "\n",
    "\n",
    "df_train2"
   ]
  },
  {
   "cell_type": "markdown",
   "metadata": {},
   "source": [
    "### Now we can use the same models to try and predict the labels with the new data"
   ]
  },
  {
   "cell_type": "code",
   "execution_count": 48,
   "metadata": {},
   "outputs": [],
   "source": [
    "#Prepare the training and testing dataset \n",
    "X_train2 = df_train2.drop(columns='label')\n",
    "y_train2 = df_train2['label']\n",
    "\n",
    "X_test2 = df_test2.drop(columns='label')\n",
    "y_test2 = df_test2['label']"
   ]
  },
  {
   "cell_type": "markdown",
   "metadata": {},
   "source": [
    "#### ADABOOST"
   ]
  },
  {
   "cell_type": "code",
   "execution_count": 49,
   "metadata": {},
   "outputs": [],
   "source": [
    "from sklearn.ensemble import AdaBoostClassifier\n",
    "ada = AdaBoostClassifier(n_estimators=100)\n",
    "ada.fit(X_train2, y_train2)\n",
    "ada_predictions= ada.predict(X_test2)"
   ]
  },
  {
   "cell_type": "code",
   "execution_count": 50,
   "metadata": {},
   "outputs": [
    {
     "name": "stdout",
     "output_type": "stream",
     "text": [
      "              precision    recall  f1-score   support\n",
      "\n",
      " T_shirt/top       0.17      0.01      0.01      1000\n",
      "     Trouser       0.26      0.55      0.35      1000\n",
      "    Pullover       0.28      0.27      0.27      1000\n",
      "       Dress       1.00      0.00      0.00      1000\n",
      "        Coat       0.23      0.41      0.29      1000\n",
      "      Sandal       0.55      0.46      0.50      1000\n",
      "       Shirt       1.00      0.00      0.00      1000\n",
      "     Sneaker       0.30      0.43      0.35      1000\n",
      "         Bag       1.00      0.00      0.00      1000\n",
      "  Ankle boot       0.20      0.57      0.29      1000\n",
      "\n",
      "    accuracy                           0.27     10000\n",
      "   macro avg       0.50      0.27      0.21     10000\n",
      "weighted avg       0.50      0.27      0.21     10000\n",
      "\n"
     ]
    }
   ],
   "source": [
    "#Classification report\n",
    "print(classification_report(y_test2, ada_predictions, target_names= class_names, zero_division=1))"
   ]
  },
  {
   "cell_type": "code",
   "execution_count": 51,
   "metadata": {},
   "outputs": [
    {
     "data": {
      "text/plain": [
       "0.2688"
      ]
     },
     "execution_count": 51,
     "metadata": {},
     "output_type": "execute_result"
    }
   ],
   "source": [
    "from sklearn.metrics import accuracy_score\n",
    "accuracy_score(y_test2, ada_predictions)"
   ]
  },
  {
   "cell_type": "code",
   "execution_count": 52,
   "metadata": {},
   "outputs": [
    {
     "data": {
      "text/plain": [
       "<sklearn.metrics._plot.confusion_matrix.ConfusionMatrixDisplay at 0x21842c3efa0>"
      ]
     },
     "execution_count": 52,
     "metadata": {},
     "output_type": "execute_result"
    },
    {
     "data": {
      "image/png": "[encoded data removed]",
      "text/plain": [
       "<Figure size 432x288 with 2 Axes>"
      ]
     },
     "metadata": {
      "needs_background": "light"
     },
     "output_type": "display_data"
    }
   ],
   "source": [
    "ConfusionMatrixDisplay.from_estimator(ada, X_test2, y_test2)"
   ]
  },
  {
   "cell_type": "code",
   "execution_count": null,
   "metadata": {},
   "outputs": [],
   "source": []
  },
  {
   "cell_type": "code",
   "execution_count": null,
   "metadata": {},
   "outputs": [],
   "source": []
  },
  {
   "cell_type": "markdown",
   "metadata": {},
   "source": [
    "#### RANDOM FOREST"
   ]
  },
  {
   "cell_type": "code",
   "execution_count": 53,
   "metadata": {},
   "outputs": [],
   "source": [
    "#Creating the model with 100 trees\n",
    "from sklearn.ensemble import RandomForestClassifier\n",
    "rf = RandomForestClassifier(n_estimators=100)\n",
    "rf.fit(X_train2, y_train2)\n",
    "rf_predictions= rf.predict(X_test2)"
   ]
  },
  {
   "cell_type": "code",
   "execution_count": 54,
   "metadata": {},
   "outputs": [
    {
     "name": "stdout",
     "output_type": "stream",
     "text": [
      "              precision    recall  f1-score   support\n",
      "\n",
      " T_shirt/top       0.12      0.12      0.12      1000\n",
      "     Trouser       0.19      0.19      0.19      1000\n",
      "    Pullover       0.15      0.14      0.15      1000\n",
      "       Dress       0.12      0.12      0.12      1000\n",
      "        Coat       0.18      0.18      0.18      1000\n",
      "      Sandal       0.37      0.36      0.36      1000\n",
      "       Shirt       0.12      0.12      0.12      1000\n",
      "     Sneaker       0.24      0.24      0.24      1000\n",
      "         Bag       0.13      0.13      0.13      1000\n",
      "  Ankle boot       0.17      0.16      0.16      1000\n",
      "\n",
      "    accuracy                           0.18     10000\n",
      "   macro avg       0.18      0.18      0.18     10000\n",
      "weighted avg       0.18      0.18      0.18     10000\n",
      "\n"
     ]
    }
   ],
   "source": [
    "print(classification_report(y_test2, rf_predictions, target_names= class_names))"
   ]
  },
  {
   "cell_type": "code",
   "execution_count": 55,
   "metadata": {},
   "outputs": [
    {
     "data": {
      "text/plain": [
       "0.1777"
      ]
     },
     "execution_count": 55,
     "metadata": {},
     "output_type": "execute_result"
    }
   ],
   "source": [
    "accuracy_score(y_test2, rf_predictions)"
   ]
  },
  {
   "cell_type": "code",
   "execution_count": 56,
   "metadata": {},
   "outputs": [
    {
     "data": {
      "text/plain": [
       "<sklearn.metrics._plot.confusion_matrix.ConfusionMatrixDisplay at 0x21842d9b2e0>"
      ]
     },
     "execution_count": 56,
     "metadata": {},
     "output_type": "execute_result"
    },
    {
     "data": {
      "image/png": "[encoded data removed]",
      "text/plain": [
       "<Figure size 432x288 with 2 Axes>"
      ]
     },
     "metadata": {
      "needs_background": "light"
     },
     "output_type": "display_data"
    }
   ],
   "source": [
    "ConfusionMatrixDisplay.from_estimator(rf, X_test2, y_test2)"
   ]
  },
  {
   "cell_type": "code",
   "execution_count": null,
   "metadata": {},
   "outputs": [],
   "source": []
  },
  {
   "cell_type": "code",
   "execution_count": null,
   "metadata": {},
   "outputs": [],
   "source": []
  },
  {
   "cell_type": "markdown",
   "metadata": {},
   "source": [
    "#### NAÏVE BAYES"
   ]
  },
  {
   "cell_type": "code",
   "execution_count": 57,
   "metadata": {},
   "outputs": [],
   "source": [
    "from sklearn.naive_bayes import GaussianNB\n",
    "nb = GaussianNB()\n",
    "nb.fit(X_train2,y_train2)\n",
    "nb_predictions= nb.predict(X_test2)"
   ]
  },
  {
   "cell_type": "code",
   "execution_count": 58,
   "metadata": {},
   "outputs": [
    {
     "name": "stdout",
     "output_type": "stream",
     "text": [
      "              precision    recall  f1-score   support\n",
      "\n",
      " T_shirt/top       1.00      0.00      0.00      1000\n",
      "     Trouser       0.26      0.53      0.34      1000\n",
      "    Pullover       0.31      0.11      0.16      1000\n",
      "       Dress       1.00      0.00      0.00      1000\n",
      "        Coat       0.24      0.61      0.34      1000\n",
      "      Sandal       0.50      0.55      0.52      1000\n",
      "       Shirt       1.00      0.00      0.00      1000\n",
      "     Sneaker       0.28      0.49      0.36      1000\n",
      "         Bag       1.00      0.00      0.00      1000\n",
      "  Ankle boot       0.20      0.45      0.28      1000\n",
      "\n",
      "    accuracy                           0.27     10000\n",
      "   macro avg       0.58      0.27      0.20     10000\n",
      "weighted avg       0.58      0.27      0.20     10000\n",
      "\n"
     ]
    }
   ],
   "source": [
    "print(classification_report(y_test2, nb_predictions, target_names= class_names, zero_division=1))"
   ]
  },
  {
   "cell_type": "code",
   "execution_count": 59,
   "metadata": {},
   "outputs": [
    {
     "data": {
      "text/plain": [
       "0.2736"
      ]
     },
     "execution_count": 59,
     "metadata": {},
     "output_type": "execute_result"
    }
   ],
   "source": [
    "accuracy_score(y_test2, nb_predictions)"
   ]
  },
  {
   "cell_type": "code",
   "execution_count": 60,
   "metadata": {},
   "outputs": [
    {
     "data": {
      "text/plain": [
       "<sklearn.metrics._plot.confusion_matrix.ConfusionMatrixDisplay at 0x21817a4c1f0>"
      ]
     },
     "execution_count": 60,
     "metadata": {},
     "output_type": "execute_result"
    },
    {
     "data": {
      "image/png": "[encoded data removed]",
      "text/plain": [
       "<Figure size 432x288 with 2 Axes>"
      ]
     },
     "metadata": {
      "needs_background": "light"
     },
     "output_type": "display_data"
    }
   ],
   "source": [
    "ConfusionMatrixDisplay.from_estimator(nb, X_test2, y_test2)"
   ]
  },
  {
   "cell_type": "code",
   "execution_count": null,
   "metadata": {},
   "outputs": [],
   "source": []
  },
  {
   "cell_type": "code",
   "execution_count": null,
   "metadata": {},
   "outputs": [],
   "source": []
  },
  {
   "cell_type": "code",
   "execution_count": null,
   "metadata": {},
   "outputs": [],
   "source": []
  },
  {
   "cell_type": "markdown",
   "metadata": {},
   "source": [
    "#### KNN"
   ]
  },
  {
   "cell_type": "code",
   "execution_count": 61,
   "metadata": {},
   "outputs": [],
   "source": [
    "from sklearn.neighbors import KNeighborsClassifier\n",
    "knn = KNeighborsClassifier(n_neighbors=3)\n",
    "knn.fit(X_train2,y_train2)\n",
    "knn_predictions= knn.predict(X_test2)"
   ]
  },
  {
   "cell_type": "code",
   "execution_count": 62,
   "metadata": {},
   "outputs": [
    {
     "name": "stdout",
     "output_type": "stream",
     "text": [
      "              precision    recall  f1-score   support\n",
      "\n",
      " T_shirt/top       0.11      0.26      0.16      1000\n",
      "     Trouser       0.19      0.36      0.25      1000\n",
      "    Pullover       0.16      0.22      0.18      1000\n",
      "       Dress       0.13      0.13      0.13      1000\n",
      "        Coat       0.17      0.13      0.15      1000\n",
      "      Sandal       0.42      0.36      0.39      1000\n",
      "       Shirt       0.14      0.06      0.08      1000\n",
      "     Sneaker       0.26      0.15      0.19      1000\n",
      "         Bag       0.12      0.04      0.06      1000\n",
      "  Ankle boot       0.17      0.07      0.10      1000\n",
      "\n",
      "    accuracy                           0.18     10000\n",
      "   macro avg       0.19      0.18      0.17     10000\n",
      "weighted avg       0.19      0.18      0.17     10000\n",
      "\n"
     ]
    }
   ],
   "source": [
    "print(classification_report(y_test2, knn_predictions, target_names= class_names))"
   ]
  },
  {
   "cell_type": "code",
   "execution_count": 63,
   "metadata": {},
   "outputs": [
    {
     "data": {
      "text/plain": [
       "0.1795"
      ]
     },
     "execution_count": 63,
     "metadata": {},
     "output_type": "execute_result"
    }
   ],
   "source": [
    "accuracy_score(y_test2, knn_predictions)"
   ]
  },
  {
   "cell_type": "code",
   "execution_count": 64,
   "metadata": {},
   "outputs": [
    {
     "data": {
      "text/plain": [
       "<sklearn.metrics._plot.confusion_matrix.ConfusionMatrixDisplay at 0x21818522970>"
      ]
     },
     "execution_count": 64,
     "metadata": {},
     "output_type": "execute_result"
    },
    {
     "data": {
      "image/png": "[encoded data removed]",
      "text/plain": [
       "<Figure size 432x288 with 2 Axes>"
      ]
     },
     "metadata": {
      "needs_background": "light"
     },
     "output_type": "display_data"
    }
   ],
   "source": [
    "ConfusionMatrixDisplay.from_estimator(knn, X_test2, y_test2)"
   ]
  },
  {
   "cell_type": "code",
   "execution_count": null,
   "metadata": {},
   "outputs": [],
   "source": []
  },
  {
   "cell_type": "code",
   "execution_count": null,
   "metadata": {},
   "outputs": [],
   "source": []
  },
  {
   "cell_type": "markdown",
   "metadata": {},
   "source": [
    "#### We can see that classifying the items based on the everage gray level is not working, the results are a lot worse than the original results. When we looked at the data using the scatter plot we realised that most of the items have the same average of gray level which explains th results."
   ]
  },
  {
   "cell_type": "code",
   "execution_count": 65,
   "metadata": {},
   "outputs": [
    {
     "data": {
      "text/plain": [
       "<matplotlib.collections.PathCollection at 0x218186c5df0>"
      ]
     },
     "execution_count": 65,
     "metadata": {},
     "output_type": "execute_result"
    },
    {
     "data": {
      "image/png": "[encoded data removed]",
      "text/plain": [
       "<Figure size 432x288 with 1 Axes>"
      ]
     },
     "metadata": {
      "needs_background": "light"
     },
     "output_type": "display_data"
    }
   ],
   "source": [
    "plt.scatter(df_train2.label, df_train2.average, c='c')"
   ]
  },
  {
   "cell_type": "code",
   "execution_count": null,
   "metadata": {},
   "outputs": [],
   "source": []
  },
  {
   "cell_type": "code",
   "execution_count": null,
   "metadata": {},
   "outputs": [],
   "source": []
  },
  {
   "cell_type": "markdown",
   "metadata": {},
   "source": [
    "## Q3 -\n",
    "### We want to check if it's possible to improve the results if we create categories for similar items\n",
    "Our new labels will represent:\n",
    "\n",
    "0 - T-shirt/top, shirt\n",
    "\n",
    "1 - Trouser\n",
    "\n",
    "2 - Pullover, Coat\n",
    "\n",
    "3 - Dress\n",
    "\n",
    "4 - Sandal, Sneaker, Ankle boot\n",
    "\n",
    "5 - Bag"
   ]
  },
  {
   "cell_type": "code",
   "execution_count": 66,
   "metadata": {
    "scrolled": false
   },
   "outputs": [
    {
     "data": {
      "text/html": [
       "<div>\n",
       "<style scoped>\n",
       "    .dataframe tbody tr th:only-of-type {\n",
       "        vertical-align: middle;\n",
       "    }\n",
       "\n",
       "    .dataframe tbody tr th {\n",
       "        vertical-align: top;\n",
       "    }\n",
       "\n",
       "    .dataframe thead th {\n",
       "        text-align: right;\n",
       "    }\n",
       "</style>\n",
       "<table border=\"1\" class=\"dataframe\">\n",
       "  <thead>\n",
       "    <tr style=\"text-align: right;\">\n",
       "      <th></th>\n",
       "      <th>label</th>\n",
       "      <th>category</th>\n",
       "      <th>pixel1</th>\n",
       "      <th>pixel2</th>\n",
       "      <th>pixel3</th>\n",
       "      <th>pixel4</th>\n",
       "      <th>pixel5</th>\n",
       "      <th>pixel6</th>\n",
       "      <th>pixel7</th>\n",
       "      <th>pixel8</th>\n",
       "      <th>...</th>\n",
       "      <th>pixel775</th>\n",
       "      <th>pixel776</th>\n",
       "      <th>pixel777</th>\n",
       "      <th>pixel778</th>\n",
       "      <th>pixel779</th>\n",
       "      <th>pixel780</th>\n",
       "      <th>pixel781</th>\n",
       "      <th>pixel782</th>\n",
       "      <th>pixel783</th>\n",
       "      <th>pixel784</th>\n",
       "    </tr>\n",
       "  </thead>\n",
       "  <tbody>\n",
       "    <tr>\n",
       "      <th>0</th>\n",
       "      <td>2</td>\n",
       "      <td>2</td>\n",
       "      <td>0</td>\n",
       "      <td>0</td>\n",
       "      <td>0</td>\n",
       "      <td>0</td>\n",
       "      <td>0</td>\n",
       "      <td>0</td>\n",
       "      <td>0</td>\n",
       "      <td>0</td>\n",
       "      <td>...</td>\n",
       "      <td>0</td>\n",
       "      <td>0</td>\n",
       "      <td>0</td>\n",
       "      <td>0</td>\n",
       "      <td>0</td>\n",
       "      <td>0</td>\n",
       "      <td>0</td>\n",
       "      <td>0</td>\n",
       "      <td>0</td>\n",
       "      <td>0</td>\n",
       "    </tr>\n",
       "    <tr>\n",
       "      <th>1</th>\n",
       "      <td>9</td>\n",
       "      <td>4</td>\n",
       "      <td>0</td>\n",
       "      <td>0</td>\n",
       "      <td>0</td>\n",
       "      <td>0</td>\n",
       "      <td>0</td>\n",
       "      <td>0</td>\n",
       "      <td>0</td>\n",
       "      <td>0</td>\n",
       "      <td>...</td>\n",
       "      <td>0</td>\n",
       "      <td>0</td>\n",
       "      <td>0</td>\n",
       "      <td>0</td>\n",
       "      <td>0</td>\n",
       "      <td>0</td>\n",
       "      <td>0</td>\n",
       "      <td>0</td>\n",
       "      <td>0</td>\n",
       "      <td>0</td>\n",
       "    </tr>\n",
       "    <tr>\n",
       "      <th>2</th>\n",
       "      <td>6</td>\n",
       "      <td>0</td>\n",
       "      <td>0</td>\n",
       "      <td>0</td>\n",
       "      <td>0</td>\n",
       "      <td>0</td>\n",
       "      <td>0</td>\n",
       "      <td>0</td>\n",
       "      <td>0</td>\n",
       "      <td>5</td>\n",
       "      <td>...</td>\n",
       "      <td>0</td>\n",
       "      <td>0</td>\n",
       "      <td>0</td>\n",
       "      <td>30</td>\n",
       "      <td>43</td>\n",
       "      <td>0</td>\n",
       "      <td>0</td>\n",
       "      <td>0</td>\n",
       "      <td>0</td>\n",
       "      <td>0</td>\n",
       "    </tr>\n",
       "    <tr>\n",
       "      <th>3</th>\n",
       "      <td>0</td>\n",
       "      <td>0</td>\n",
       "      <td>0</td>\n",
       "      <td>0</td>\n",
       "      <td>0</td>\n",
       "      <td>1</td>\n",
       "      <td>2</td>\n",
       "      <td>0</td>\n",
       "      <td>0</td>\n",
       "      <td>0</td>\n",
       "      <td>...</td>\n",
       "      <td>3</td>\n",
       "      <td>0</td>\n",
       "      <td>0</td>\n",
       "      <td>0</td>\n",
       "      <td>0</td>\n",
       "      <td>1</td>\n",
       "      <td>0</td>\n",
       "      <td>0</td>\n",
       "      <td>0</td>\n",
       "      <td>0</td>\n",
       "    </tr>\n",
       "    <tr>\n",
       "      <th>4</th>\n",
       "      <td>3</td>\n",
       "      <td>3</td>\n",
       "      <td>0</td>\n",
       "      <td>0</td>\n",
       "      <td>0</td>\n",
       "      <td>0</td>\n",
       "      <td>0</td>\n",
       "      <td>0</td>\n",
       "      <td>0</td>\n",
       "      <td>0</td>\n",
       "      <td>...</td>\n",
       "      <td>0</td>\n",
       "      <td>0</td>\n",
       "      <td>0</td>\n",
       "      <td>0</td>\n",
       "      <td>0</td>\n",
       "      <td>0</td>\n",
       "      <td>0</td>\n",
       "      <td>0</td>\n",
       "      <td>0</td>\n",
       "      <td>0</td>\n",
       "    </tr>\n",
       "    <tr>\n",
       "      <th>...</th>\n",
       "      <td>...</td>\n",
       "      <td>...</td>\n",
       "      <td>...</td>\n",
       "      <td>...</td>\n",
       "      <td>...</td>\n",
       "      <td>...</td>\n",
       "      <td>...</td>\n",
       "      <td>...</td>\n",
       "      <td>...</td>\n",
       "      <td>...</td>\n",
       "      <td>...</td>\n",
       "      <td>...</td>\n",
       "      <td>...</td>\n",
       "      <td>...</td>\n",
       "      <td>...</td>\n",
       "      <td>...</td>\n",
       "      <td>...</td>\n",
       "      <td>...</td>\n",
       "      <td>...</td>\n",
       "      <td>...</td>\n",
       "      <td>...</td>\n",
       "    </tr>\n",
       "    <tr>\n",
       "      <th>59995</th>\n",
       "      <td>9</td>\n",
       "      <td>4</td>\n",
       "      <td>0</td>\n",
       "      <td>0</td>\n",
       "      <td>0</td>\n",
       "      <td>0</td>\n",
       "      <td>0</td>\n",
       "      <td>0</td>\n",
       "      <td>0</td>\n",
       "      <td>0</td>\n",
       "      <td>...</td>\n",
       "      <td>0</td>\n",
       "      <td>0</td>\n",
       "      <td>0</td>\n",
       "      <td>0</td>\n",
       "      <td>0</td>\n",
       "      <td>0</td>\n",
       "      <td>0</td>\n",
       "      <td>0</td>\n",
       "      <td>0</td>\n",
       "      <td>0</td>\n",
       "    </tr>\n",
       "    <tr>\n",
       "      <th>59996</th>\n",
       "      <td>1</td>\n",
       "      <td>1</td>\n",
       "      <td>0</td>\n",
       "      <td>0</td>\n",
       "      <td>0</td>\n",
       "      <td>0</td>\n",
       "      <td>0</td>\n",
       "      <td>0</td>\n",
       "      <td>0</td>\n",
       "      <td>0</td>\n",
       "      <td>...</td>\n",
       "      <td>73</td>\n",
       "      <td>0</td>\n",
       "      <td>0</td>\n",
       "      <td>0</td>\n",
       "      <td>0</td>\n",
       "      <td>0</td>\n",
       "      <td>0</td>\n",
       "      <td>0</td>\n",
       "      <td>0</td>\n",
       "      <td>0</td>\n",
       "    </tr>\n",
       "    <tr>\n",
       "      <th>59997</th>\n",
       "      <td>8</td>\n",
       "      <td>5</td>\n",
       "      <td>0</td>\n",
       "      <td>0</td>\n",
       "      <td>0</td>\n",
       "      <td>0</td>\n",
       "      <td>0</td>\n",
       "      <td>0</td>\n",
       "      <td>0</td>\n",
       "      <td>0</td>\n",
       "      <td>...</td>\n",
       "      <td>160</td>\n",
       "      <td>162</td>\n",
       "      <td>163</td>\n",
       "      <td>135</td>\n",
       "      <td>94</td>\n",
       "      <td>0</td>\n",
       "      <td>0</td>\n",
       "      <td>0</td>\n",
       "      <td>0</td>\n",
       "      <td>0</td>\n",
       "    </tr>\n",
       "    <tr>\n",
       "      <th>59998</th>\n",
       "      <td>8</td>\n",
       "      <td>5</td>\n",
       "      <td>0</td>\n",
       "      <td>0</td>\n",
       "      <td>0</td>\n",
       "      <td>0</td>\n",
       "      <td>0</td>\n",
       "      <td>0</td>\n",
       "      <td>0</td>\n",
       "      <td>0</td>\n",
       "      <td>...</td>\n",
       "      <td>0</td>\n",
       "      <td>0</td>\n",
       "      <td>0</td>\n",
       "      <td>0</td>\n",
       "      <td>0</td>\n",
       "      <td>0</td>\n",
       "      <td>0</td>\n",
       "      <td>0</td>\n",
       "      <td>0</td>\n",
       "      <td>0</td>\n",
       "    </tr>\n",
       "    <tr>\n",
       "      <th>59999</th>\n",
       "      <td>7</td>\n",
       "      <td>4</td>\n",
       "      <td>0</td>\n",
       "      <td>0</td>\n",
       "      <td>0</td>\n",
       "      <td>0</td>\n",
       "      <td>0</td>\n",
       "      <td>0</td>\n",
       "      <td>0</td>\n",
       "      <td>0</td>\n",
       "      <td>...</td>\n",
       "      <td>0</td>\n",
       "      <td>0</td>\n",
       "      <td>0</td>\n",
       "      <td>0</td>\n",
       "      <td>0</td>\n",
       "      <td>0</td>\n",
       "      <td>0</td>\n",
       "      <td>0</td>\n",
       "      <td>0</td>\n",
       "      <td>0</td>\n",
       "    </tr>\n",
       "  </tbody>\n",
       "</table>\n",
       "<p>60000 rows × 786 columns</p>\n",
       "</div>"
      ],
      "text/plain": [
       "       label  category  pixel1  pixel2  pixel3  pixel4  pixel5  pixel6  \\\n",
       "0          2         2       0       0       0       0       0       0   \n",
       "1          9         4       0       0       0       0       0       0   \n",
       "2          6         0       0       0       0       0       0       0   \n",
       "3          0         0       0       0       0       1       2       0   \n",
       "4          3         3       0       0       0       0       0       0   \n",
       "...      ...       ...     ...     ...     ...     ...     ...     ...   \n",
       "59995      9         4       0       0       0       0       0       0   \n",
       "59996      1         1       0       0       0       0       0       0   \n",
       "59997      8         5       0       0       0       0       0       0   \n",
       "59998      8         5       0       0       0       0       0       0   \n",
       "59999      7         4       0       0       0       0       0       0   \n",
       "\n",
       "       pixel7  pixel8  ...  pixel775  pixel776  pixel777  pixel778  pixel779  \\\n",
       "0           0       0  ...         0         0         0         0         0   \n",
       "1           0       0  ...         0         0         0         0         0   \n",
       "2           0       5  ...         0         0         0        30        43   \n",
       "3           0       0  ...         3         0         0         0         0   \n",
       "4           0       0  ...         0         0         0         0         0   \n",
       "...       ...     ...  ...       ...       ...       ...       ...       ...   \n",
       "59995       0       0  ...         0         0         0         0         0   \n",
       "59996       0       0  ...        73         0         0         0         0   \n",
       "59997       0       0  ...       160       162       163       135        94   \n",
       "59998       0       0  ...         0         0         0         0         0   \n",
       "59999       0       0  ...         0         0         0         0         0   \n",
       "\n",
       "       pixel780  pixel781  pixel782  pixel783  pixel784  \n",
       "0             0         0         0         0         0  \n",
       "1             0         0         0         0         0  \n",
       "2             0         0         0         0         0  \n",
       "3             1         0         0         0         0  \n",
       "4             0         0         0         0         0  \n",
       "...         ...       ...       ...       ...       ...  \n",
       "59995         0         0         0         0         0  \n",
       "59996         0         0         0         0         0  \n",
       "59997         0         0         0         0         0  \n",
       "59998         0         0         0         0         0  \n",
       "59999         0         0         0         0         0  \n",
       "\n",
       "[60000 rows x 786 columns]"
      ]
     },
     "execution_count": 66,
     "metadata": {},
     "output_type": "execute_result"
    }
   ],
   "source": [
    "label_map = {0:0, 1:1, 2:2, 3:3, 4:2, 5:4, 6:0, 7:4, 8:5, 9:4}\n",
    "class_names = ['T_shirt/top, Shirt', 'Trouser', 'Pullover, Coat', 'Dress', 'Sandal, Sneaker, Ankle boot', 'Bag']\n",
    "\n",
    "df_train3 = df_train.copy(deep=True)\n",
    "df_train3['category'] = df_train3[\"label\"].map(label_map)\n",
    "\n",
    "df_test3 = df_test.copy(deep=True)\n",
    "df_test3['category'] = df_test3[\"label\"].map(label_map)\n",
    "\n",
    "\n",
    "sec_col = df_train3.pop('category')\n",
    "df_train3.insert(1, 'category', sec_col)\n",
    "df_train3"
   ]
  },
  {
   "cell_type": "markdown",
   "metadata": {},
   "source": [
    "### Now we will use the same models to try and predict the categories with the new data"
   ]
  },
  {
   "cell_type": "code",
   "execution_count": 67,
   "metadata": {},
   "outputs": [],
   "source": [
    "#Prepare the training and testing dataset \n",
    "X_train3 = df_train3.drop(columns=['label', 'category'])\n",
    "y_train3 = df_train3['category']\n",
    "\n",
    "X_test3 = df_test3.drop(columns=['label', 'category'])\n",
    "y_test3 = df_test3['category']"
   ]
  },
  {
   "cell_type": "markdown",
   "metadata": {},
   "source": [
    "#### ADABOOST"
   ]
  },
  {
   "cell_type": "code",
   "execution_count": 68,
   "metadata": {},
   "outputs": [],
   "source": [
    "from sklearn.ensemble import AdaBoostClassifier\n",
    "ada = AdaBoostClassifier(n_estimators=100)\n",
    "ada.fit(X_train3, y_train3)\n",
    "ada_predictions = ada.predict(X_test3)"
   ]
  },
  {
   "cell_type": "code",
   "execution_count": 69,
   "metadata": {},
   "outputs": [
    {
     "name": "stdout",
     "output_type": "stream",
     "text": [
      "                             precision    recall  f1-score   support\n",
      "\n",
      "         T_shirt/top, Shirt       0.51      0.09      0.16      2000\n",
      "                    Trouser       0.45      0.88      0.60      1000\n",
      "             Pullover, Coat       0.71      0.83      0.76      2000\n",
      "                      Dress       0.62      0.79      0.70      1000\n",
      "Sandal, Sneaker, Ankle boot       0.97      0.99      0.98      3000\n",
      "                        Bag       0.87      0.87      0.87      1000\n",
      "\n",
      "                   accuracy                           0.74     10000\n",
      "                  macro avg       0.69      0.74      0.68     10000\n",
      "               weighted avg       0.73      0.74      0.70     10000\n",
      "\n"
     ]
    }
   ],
   "source": [
    "#Classification report\n",
    "print(classification_report(y_test3, ada_predictions, target_names=class_names, zero_division=1))"
   ]
  },
  {
   "cell_type": "code",
   "execution_count": 70,
   "metadata": {},
   "outputs": [
    {
     "data": {
      "text/plain": [
       "0.737"
      ]
     },
     "execution_count": 70,
     "metadata": {},
     "output_type": "execute_result"
    }
   ],
   "source": [
    "from sklearn.metrics import accuracy_score\n",
    "accuracy_score(y_test3, ada_predictions)"
   ]
  },
  {
   "cell_type": "code",
   "execution_count": 71,
   "metadata": {},
   "outputs": [
    {
     "data": {
      "text/plain": [
       "<sklearn.metrics._plot.confusion_matrix.ConfusionMatrixDisplay at 0x217c97b4880>"
      ]
     },
     "execution_count": 71,
     "metadata": {},
     "output_type": "execute_result"
    },
    {
     "data": {
      "image/png": "[encoded data removed]",
      "text/plain": [
       "<Figure size 432x288 with 2 Axes>"
      ]
     },
     "metadata": {
      "needs_background": "light"
     },
     "output_type": "display_data"
    }
   ],
   "source": [
    "ConfusionMatrixDisplay.from_estimator(ada, X_test3, y_test3)"
   ]
  },
  {
   "cell_type": "code",
   "execution_count": null,
   "metadata": {},
   "outputs": [],
   "source": []
  },
  {
   "cell_type": "markdown",
   "metadata": {},
   "source": [
    "#### RANDOM FOREST"
   ]
  },
  {
   "cell_type": "code",
   "execution_count": 72,
   "metadata": {},
   "outputs": [],
   "source": [
    "#Creating the model with 100 trees\n",
    "from sklearn.ensemble import RandomForestClassifier\n",
    "rf = RandomForestClassifier(n_estimators=100)\n",
    "rf.fit(X_train3, y_train3)\n",
    "rf_predictions= rf.predict(X_test3)"
   ]
  },
  {
   "cell_type": "code",
   "execution_count": 73,
   "metadata": {},
   "outputs": [
    {
     "name": "stdout",
     "output_type": "stream",
     "text": [
      "                             precision    recall  f1-score   support\n",
      "\n",
      "         T_shirt/top, Shirt       0.91      0.87      0.89      2000\n",
      "                    Trouser       0.99      0.97      0.98      1000\n",
      "             Pullover, Coat       0.88      0.93      0.90      2000\n",
      "                      Dress       0.91      0.91      0.91      1000\n",
      "Sandal, Sneaker, Ankle boot       1.00      1.00      1.00      3000\n",
      "                        Bag       0.96      0.98      0.97      1000\n",
      "\n",
      "                   accuracy                           0.94     10000\n",
      "                  macro avg       0.94      0.94      0.94     10000\n",
      "               weighted avg       0.95      0.94      0.94     10000\n",
      "\n"
     ]
    }
   ],
   "source": [
    "print(classification_report(y_test3, rf_predictions, target_names= class_names))"
   ]
  },
  {
   "cell_type": "code",
   "execution_count": 74,
   "metadata": {},
   "outputs": [
    {
     "data": {
      "text/plain": [
       "0.9446"
      ]
     },
     "execution_count": 74,
     "metadata": {},
     "output_type": "execute_result"
    }
   ],
   "source": [
    "accuracy_score(y_test3, rf_predictions)"
   ]
  },
  {
   "cell_type": "code",
   "execution_count": 75,
   "metadata": {},
   "outputs": [
    {
     "data": {
      "text/plain": [
       "<sklearn.metrics._plot.confusion_matrix.ConfusionMatrixDisplay at 0x21818688940>"
      ]
     },
     "execution_count": 75,
     "metadata": {},
     "output_type": "execute_result"
    },
    {
     "data": {
      "image/png": "[encoded data removed]",
      "text/plain": [
       "<Figure size 432x288 with 2 Axes>"
      ]
     },
     "metadata": {
      "needs_background": "light"
     },
     "output_type": "display_data"
    }
   ],
   "source": [
    "ConfusionMatrixDisplay.from_estimator(rf, X_test3, y_test3)"
   ]
  },
  {
   "cell_type": "code",
   "execution_count": null,
   "metadata": {},
   "outputs": [],
   "source": []
  },
  {
   "cell_type": "markdown",
   "metadata": {},
   "source": [
    "#### NAÏVE BAYES"
   ]
  },
  {
   "cell_type": "code",
   "execution_count": 76,
   "metadata": {},
   "outputs": [],
   "source": [
    "from sklearn.naive_bayes import GaussianNB\n",
    "nb = GaussianNB()\n",
    "nb.fit(X_train3,y_train3)\n",
    "nb_predictions= nb.predict(X_test3)"
   ]
  },
  {
   "cell_type": "code",
   "execution_count": 77,
   "metadata": {},
   "outputs": [
    {
     "name": "stdout",
     "output_type": "stream",
     "text": [
      "                             precision    recall  f1-score   support\n",
      "\n",
      "         T_shirt/top, Shirt       0.85      0.35      0.49      2000\n",
      "                    Trouser       0.69      0.94      0.79      1000\n",
      "             Pullover, Coat       0.66      0.80      0.72      2000\n",
      "                      Dress       0.42      0.65      0.51      1000\n",
      "Sandal, Sneaker, Ankle boot       1.00      0.97      0.98      3000\n",
      "                        Bag       0.80      0.72      0.76      1000\n",
      "\n",
      "                   accuracy                           0.75     10000\n",
      "                  macro avg       0.73      0.74      0.71     10000\n",
      "               weighted avg       0.79      0.75      0.74     10000\n",
      "\n"
     ]
    }
   ],
   "source": [
    "print(classification_report(y_test3, nb_predictions, target_names= class_names, zero_division=1))"
   ]
  },
  {
   "cell_type": "code",
   "execution_count": 78,
   "metadata": {},
   "outputs": [
    {
     "data": {
      "text/plain": [
       "0.7515"
      ]
     },
     "execution_count": 78,
     "metadata": {},
     "output_type": "execute_result"
    }
   ],
   "source": [
    "accuracy_score(y_test3, nb_predictions)"
   ]
  },
  {
   "cell_type": "code",
   "execution_count": 79,
   "metadata": {},
   "outputs": [
    {
     "data": {
      "text/plain": [
       "<sklearn.metrics._plot.confusion_matrix.ConfusionMatrixDisplay at 0x21818888040>"
      ]
     },
     "execution_count": 79,
     "metadata": {},
     "output_type": "execute_result"
    },
    {
     "data": {
      "image/png": "[encoded data removed]",
      "text/plain": [
       "<Figure size 432x288 with 2 Axes>"
      ]
     },
     "metadata": {
      "needs_background": "light"
     },
     "output_type": "display_data"
    }
   ],
   "source": [
    "ConfusionMatrixDisplay.from_estimator(nb, X_test3, y_test3)"
   ]
  },
  {
   "cell_type": "code",
   "execution_count": null,
   "metadata": {},
   "outputs": [],
   "source": []
  },
  {
   "cell_type": "markdown",
   "metadata": {},
   "source": [
    "#### KNN"
   ]
  },
  {
   "cell_type": "code",
   "execution_count": 80,
   "metadata": {},
   "outputs": [],
   "source": [
    "from sklearn.neighbors import KNeighborsClassifier\n",
    "knn = KNeighborsClassifier(n_neighbors=3)\n",
    "knn.fit(X_train3,y_train3)\n",
    "knn_predictions= knn.predict(X_test3)"
   ]
  },
  {
   "cell_type": "code",
   "execution_count": 81,
   "metadata": {},
   "outputs": [
    {
     "name": "stdout",
     "output_type": "stream",
     "text": [
      "                             precision    recall  f1-score   support\n",
      "\n",
      "         T_shirt/top, Shirt       0.85      0.88      0.87      2000\n",
      "                    Trouser       0.99      0.97      0.98      1000\n",
      "             Pullover, Coat       0.87      0.89      0.88      2000\n",
      "                      Dress       0.93      0.87      0.90      1000\n",
      "Sandal, Sneaker, Ankle boot       1.00      1.00      1.00      3000\n",
      "                        Bag       0.98      0.95      0.97      1000\n",
      "\n",
      "                   accuracy                           0.93     10000\n",
      "                  macro avg       0.94      0.93      0.93     10000\n",
      "               weighted avg       0.93      0.93      0.93     10000\n",
      "\n"
     ]
    }
   ],
   "source": [
    "print(classification_report(y_test3, knn_predictions, target_names= class_names))"
   ]
  },
  {
   "cell_type": "code",
   "execution_count": 82,
   "metadata": {},
   "outputs": [
    {
     "data": {
      "text/plain": [
       "0.9327"
      ]
     },
     "execution_count": 82,
     "metadata": {},
     "output_type": "execute_result"
    }
   ],
   "source": [
    "accuracy_score(y_test3, knn_predictions)"
   ]
  },
  {
   "cell_type": "code",
   "execution_count": 83,
   "metadata": {},
   "outputs": [
    {
     "data": {
      "text/plain": [
       "<sklearn.metrics._plot.confusion_matrix.ConfusionMatrixDisplay at 0x218178ebb20>"
      ]
     },
     "execution_count": 83,
     "metadata": {},
     "output_type": "execute_result"
    },
    {
     "data": {
      "image/png": "[encoded data removed]",
      "text/plain": [
       "<Figure size 432x288 with 2 Axes>"
      ]
     },
     "metadata": {
      "needs_background": "light"
     },
     "output_type": "display_data"
    }
   ],
   "source": [
    "ConfusionMatrixDisplay.from_estimator(knn, X_test3, y_test3)"
   ]
  },
  {
   "cell_type": "code",
   "execution_count": null,
   "metadata": {},
   "outputs": [],
   "source": []
  },
  {
   "cell_type": "markdown",
   "metadata": {},
   "source": [
    "### We can see that the results have improved for all models, and the models that had low results in the original data have improved significantly"
   ]
  },
  {
   "cell_type": "code",
   "execution_count": null,
   "metadata": {},
   "outputs": [],
   "source": []
  },
  {
   "cell_type": "code",
   "execution_count": null,
   "metadata": {},
   "outputs": [],
   "source": []
  },
  {
   "cell_type": "code",
   "execution_count": 84,
   "metadata": {},
   "outputs": [
    {
     "data": {
      "image/png": "[encoded data removed]",
      "text/plain": [
       "<Figure size 720x720 with 16 Axes>"
      ]
     },
     "metadata": {},
     "output_type": "display_data"
    }
   ],
   "source": [
    "#Visualization\n",
    "plt.figure(figsize=(10,10))\n",
    "for i in range(16):\n",
    "    plt.subplot(4,4,i+1)\n",
    "    plt.xticks([])\n",
    "    plt.yticks([])\n",
    "    plt.grid(False)\n",
    "    plt.imshow(train[i,1:].reshape((28,28)), cmap=plt.cm.binary)\n",
    "    plt.title(\"Image label is: {}\".format(y_train[i]))\n",
    "plt.show()"
   ]
  },
  {
   "cell_type": "code",
   "execution_count": null,
   "metadata": {},
   "outputs": [],
   "source": []
  }
 ],
 "metadata": {
  "kernelspec": {
   "display_name": "Python 3 (ipykernel)",
   "language": "python",
   "name": "python3"
  },
  "language_info": {
   "codemirror_mode": {
    "name": "ipython",
    "version": 3
   },
   "file_extension": ".py",
   "mimetype": "text/x-python",
   "name": "python",
   "nbconvert_exporter": "python",
   "pygments_lexer": "ipython3",
   "version": "3.9.1"
  }
 },
 "nbformat": 4,
 "nbformat_minor": 2
}
